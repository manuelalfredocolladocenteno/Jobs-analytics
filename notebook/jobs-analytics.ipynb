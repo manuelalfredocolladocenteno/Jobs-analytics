{
 "cells": [
  {
   "cell_type": "markdown",
   "metadata": {
    "papermill": {
     "duration": 0.025524,
     "end_time": "2020-10-17T09:41:19.505456",
     "exception": false,
     "start_time": "2020-10-17T09:41:19.479932",
     "status": "completed"
    },
    "tags": []
   },
   "source": [
    "# Jobs analytics"
   ]
  },
  {
   "cell_type": "markdown",
   "metadata": {
    "papermill": {
     "duration": 0.023778,
     "end_time": "2020-10-17T09:41:19.553575",
     "exception": false,
     "start_time": "2020-10-17T09:41:19.529797",
     "status": "completed"
    },
    "tags": []
   },
   "source": [
    "EasyApply Bot is a bot that helps you to apply to EasyApply offers on LinkedIn. Here is the project in case you are interested: https://github.com/nicolomantini/LinkedIn-Easy-Apply-Bot\n",
    "\n",
    "Once you run this program every attempt to apply to a job gets recorded in a CSV file. I've been using the bot for a time and now I want to make some analytics in order to learn something new.\n",
    "\n",
    "I set up the bot to look for jobs of data scientist, data engineer, data analyst, business intelligence and python."
   ]
  },
  {
   "cell_type": "code",
   "execution_count": 1,
   "metadata": {
    "_cell_guid": "b1076dfc-b9ad-4769-8c92-a6c4dae69d19",
    "_uuid": "8f2839f25d086af736a60e9eeb907d3b93b6e0e5",
    "execution": {
     "iopub.execute_input": "2020-10-17T09:41:19.611141Z",
     "iopub.status.busy": "2020-10-17T09:41:19.610273Z",
     "iopub.status.idle": "2020-10-17T09:41:19.617245Z",
     "shell.execute_reply": "2020-10-17T09:41:19.617836Z"
    },
    "papermill": {
     "duration": 0.040388,
     "end_time": "2020-10-17T09:41:19.618019",
     "exception": false,
     "start_time": "2020-10-17T09:41:19.577631",
     "status": "completed"
    },
    "tags": []
   },
   "outputs": [
    {
     "name": "stdout",
     "output_type": "stream",
     "text": [
      "/kaggle/input/jobs-applied-in-linkedin-with-easyapplybot/jobs.csv\n"
     ]
    }
   ],
   "source": [
    "# This Python 3 environment comes with many helpful analytics libraries installed\n",
    "# It is defined by the kaggle/python Docker image: https://github.com/kaggle/docker-python\n",
    "# For example, here's several helpful packages to load\n",
    "\n",
    "import numpy as np # linear algebra\n",
    "import pandas as pd # data processing, CSV file I/O (e.g. pd.read_csv)\n",
    "\n",
    "# Input data files are available in the read-only \"../input/\" directory\n",
    "# For example, running this (by clicking run or pressing Shift+Enter) will list all files under the input directory\n",
    "\n",
    "import os\n",
    "for dirname, _, filenames in os.walk('/kaggle/input'):\n",
    "    for filename in filenames:\n",
    "        print(os.path.join(dirname, filename))\n",
    "\n",
    "# You can write up to 5GB to the current directory (/kaggle/working/) that gets preserved as output when you create a version using \"Save & Run All\" \n",
    "# You can also write temporary files to /kaggle/temp/, but they won't be saved outside of the current session"
   ]
  },
  {
   "cell_type": "code",
   "execution_count": 2,
   "metadata": {
    "execution": {
     "iopub.execute_input": "2020-10-17T09:41:19.674875Z",
     "iopub.status.busy": "2020-10-17T09:41:19.674084Z",
     "iopub.status.idle": "2020-10-17T09:41:20.615806Z",
     "shell.execute_reply": "2020-10-17T09:41:20.614995Z"
    },
    "papermill": {
     "duration": 0.972443,
     "end_time": "2020-10-17T09:41:20.615934",
     "exception": false,
     "start_time": "2020-10-17T09:41:19.643491",
     "status": "completed"
    },
    "tags": []
   },
   "outputs": [],
   "source": [
    "pd.plotting.register_matplotlib_converters()\n",
    "import matplotlib.pyplot as plt\n",
    "%matplotlib inline\n",
    "import seaborn as sns"
   ]
  },
  {
   "cell_type": "code",
   "execution_count": 3,
   "metadata": {
    "_cell_guid": "79c7e3d0-c299-4dcb-8224-4455121ee9b0",
    "_uuid": "d629ff2d2480ee46fbb7e2d37f6b5fab8052498a",
    "execution": {
     "iopub.execute_input": "2020-10-17T09:41:20.673067Z",
     "iopub.status.busy": "2020-10-17T09:41:20.672323Z",
     "iopub.status.idle": "2020-10-17T09:41:20.704899Z",
     "shell.execute_reply": "2020-10-17T09:41:20.704294Z"
    },
    "papermill": {
     "duration": 0.063651,
     "end_time": "2020-10-17T09:41:20.705016",
     "exception": false,
     "start_time": "2020-10-17T09:41:20.641365",
     "status": "completed"
    },
    "tags": []
   },
   "outputs": [
    {
     "data": {
      "text/html": [
       "<div>\n",
       "<style scoped>\n",
       "    .dataframe tbody tr th:only-of-type {\n",
       "        vertical-align: middle;\n",
       "    }\n",
       "\n",
       "    .dataframe tbody tr th {\n",
       "        vertical-align: top;\n",
       "    }\n",
       "\n",
       "    .dataframe thead th {\n",
       "        text-align: right;\n",
       "    }\n",
       "</style>\n",
       "<table border=\"1\" class=\"dataframe\">\n",
       "  <thead>\n",
       "    <tr style=\"text-align: right;\">\n",
       "      <th></th>\n",
       "      <th>timestamp</th>\n",
       "      <th>jobID</th>\n",
       "      <th>job</th>\n",
       "      <th>company</th>\n",
       "      <th>attempted</th>\n",
       "      <th>result</th>\n",
       "    </tr>\n",
       "  </thead>\n",
       "  <tbody>\n",
       "    <tr>\n",
       "      <th>0</th>\n",
       "      <td>2020-09-09 18:01:14.040289</td>\n",
       "      <td>1998149634</td>\n",
       "      <td>Data Analytics / Data Scientist</td>\n",
       "      <td>Evolutio Empowering the cloud</td>\n",
       "      <td>True</td>\n",
       "      <td>True</td>\n",
       "    </tr>\n",
       "    <tr>\n",
       "      <th>1</th>\n",
       "      <td>2020-09-09 18:01:39.009284</td>\n",
       "      <td>2011446983</td>\n",
       "      <td>Data Scientist</td>\n",
       "      <td>Experis Selecciï¿½n</td>\n",
       "      <td>True</td>\n",
       "      <td>True</td>\n",
       "    </tr>\n",
       "    <tr>\n",
       "      <th>2</th>\n",
       "      <td>2020-09-09 18:02:03.471147</td>\n",
       "      <td>2011445130</td>\n",
       "      <td>Data Engineer</td>\n",
       "      <td>SoYou_Bankia</td>\n",
       "      <td>True</td>\n",
       "      <td>True</td>\n",
       "    </tr>\n",
       "    <tr>\n",
       "      <th>3</th>\n",
       "      <td>2020-09-09 18:02:18.523716</td>\n",
       "      <td>1990255850</td>\n",
       "      <td>Data Scientist Junior</td>\n",
       "      <td>Strategy Big Data</td>\n",
       "      <td>False</td>\n",
       "      <td>False</td>\n",
       "    </tr>\n",
       "    <tr>\n",
       "      <th>4</th>\n",
       "      <td>2020-09-09 18:02:44.209952</td>\n",
       "      <td>2011254160</td>\n",
       "      <td>Data Scientist</td>\n",
       "      <td>Daimler Group Services Madrid</td>\n",
       "      <td>True</td>\n",
       "      <td>True</td>\n",
       "    </tr>\n",
       "  </tbody>\n",
       "</table>\n",
       "</div>"
      ],
      "text/plain": [
       "                    timestamp       jobID                              job  \\\n",
       "0  2020-09-09 18:01:14.040289  1998149634  Data Analytics / Data Scientist   \n",
       "1  2020-09-09 18:01:39.009284  2011446983                   Data Scientist   \n",
       "2  2020-09-09 18:02:03.471147  2011445130                    Data Engineer   \n",
       "3  2020-09-09 18:02:18.523716  1990255850            Data Scientist Junior   \n",
       "4  2020-09-09 18:02:44.209952  2011254160                   Data Scientist   \n",
       "\n",
       "                         company  attempted  result  \n",
       "0  Evolutio Empowering the cloud       True    True  \n",
       "1            Experis Selecciï¿½n       True    True  \n",
       "2                   SoYou_Bankia       True    True  \n",
       "3              Strategy Big Data      False   False  \n",
       "4  Daimler Group Services Madrid       True    True  "
      ]
     },
     "execution_count": 3,
     "metadata": {},
     "output_type": "execute_result"
    }
   ],
   "source": [
    "my_filepath = \"../input/jobs-applied-in-linkedin-with-easyapplybot/jobs.csv\"\n",
    "\n",
    "my_data = pd.read_csv(my_filepath,encoding='latin1')\n",
    "\n",
    "my_data.head()"
   ]
  },
  {
   "cell_type": "markdown",
   "metadata": {
    "papermill": {
     "duration": 0.025714,
     "end_time": "2020-10-17T09:41:20.756643",
     "exception": false,
     "start_time": "2020-10-17T09:41:20.730929",
     "status": "completed"
    },
    "tags": []
   },
   "source": [
    "Since there are some offers that will be constantly visited I will drop all the offers already seen."
   ]
  },
  {
   "cell_type": "code",
   "execution_count": 4,
   "metadata": {
    "execution": {
     "iopub.execute_input": "2020-10-17T09:41:20.822082Z",
     "iopub.status.busy": "2020-10-17T09:41:20.819572Z",
     "iopub.status.idle": "2020-10-17T09:41:20.831820Z",
     "shell.execute_reply": "2020-10-17T09:41:20.832366Z"
    },
    "papermill": {
     "duration": 0.049902,
     "end_time": "2020-10-17T09:41:20.832526",
     "exception": false,
     "start_time": "2020-10-17T09:41:20.782624",
     "status": "completed"
    },
    "tags": []
   },
   "outputs": [
    {
     "name": "stdout",
     "output_type": "stream",
     "text": [
      "Jobs found:  288\n",
      "Successfully sent applications:  203\n",
      "Failed applications:  85\n"
     ]
    }
   ],
   "source": [
    "non_duplicated = my_data.drop_duplicates(['jobID'])\n",
    "\n",
    "print(\"Jobs found: \", len(non_duplicated['result']))\n",
    "print(\"Successfully sent applications: \", non_duplicated['result'].value_counts()[1])\n",
    "print(\"Failed applications: \", non_duplicated['result'].value_counts()[0])"
   ]
  },
  {
   "cell_type": "markdown",
   "metadata": {
    "papermill": {
     "duration": 0.026238,
     "end_time": "2020-10-17T09:41:20.885509",
     "exception": false,
     "start_time": "2020-10-17T09:41:20.859271",
     "status": "completed"
    },
    "tags": []
   },
   "source": [
    "Now we create two new columns from timestamp column."
   ]
  },
  {
   "cell_type": "code",
   "execution_count": 5,
   "metadata": {
    "execution": {
     "iopub.execute_input": "2020-10-17T09:41:20.947559Z",
     "iopub.status.busy": "2020-10-17T09:41:20.946788Z",
     "iopub.status.idle": "2020-10-17T09:41:20.981248Z",
     "shell.execute_reply": "2020-10-17T09:41:20.981887Z"
    },
    "papermill": {
     "duration": 0.068857,
     "end_time": "2020-10-17T09:41:20.982044",
     "exception": false,
     "start_time": "2020-10-17T09:41:20.913187",
     "status": "completed"
    },
    "tags": []
   },
   "outputs": [
    {
     "name": "stderr",
     "output_type": "stream",
     "text": [
      "/opt/conda/lib/python3.7/site-packages/ipykernel_launcher.py:2: SettingWithCopyWarning: \n",
      "A value is trying to be set on a copy of a slice from a DataFrame.\n",
      "Try using .loc[row_indexer,col_indexer] = value instead\n",
      "\n",
      "See the caveats in the documentation: https://pandas.pydata.org/pandas-docs/stable/user_guide/indexing.html#returning-a-view-versus-a-copy\n",
      "  \n",
      "/opt/conda/lib/python3.7/site-packages/ipykernel_launcher.py:3: SettingWithCopyWarning: \n",
      "A value is trying to be set on a copy of a slice from a DataFrame.\n",
      "Try using .loc[row_indexer,col_indexer] = value instead\n",
      "\n",
      "See the caveats in the documentation: https://pandas.pydata.org/pandas-docs/stable/user_guide/indexing.html#returning-a-view-versus-a-copy\n",
      "  This is separate from the ipykernel package so we can avoid doing imports until\n"
     ]
    }
   ],
   "source": [
    "import datetime\n",
    "non_duplicated['date'] = non_duplicated.apply(lambda x: datetime.datetime.strptime(x['timestamp'], '%Y-%m-%d %H:%M:%S.%f').date(), axis = 1)\n",
    "non_duplicated['time'] = non_duplicated.apply(lambda x: datetime.datetime.strptime(x['timestamp'], '%Y-%m-%d %H:%M:%S.%f').time(), axis = 1)"
   ]
  },
  {
   "cell_type": "markdown",
   "metadata": {
    "papermill": {
     "duration": 0.027017,
     "end_time": "2020-10-17T09:41:21.036400",
     "exception": false,
     "start_time": "2020-10-17T09:41:21.009383",
     "status": "completed"
    },
    "tags": []
   },
   "source": [
    "Now we can drop timestamp column since it is already useless."
   ]
  },
  {
   "cell_type": "code",
   "execution_count": 6,
   "metadata": {
    "execution": {
     "iopub.execute_input": "2020-10-17T09:41:21.098738Z",
     "iopub.status.busy": "2020-10-17T09:41:21.097679Z",
     "iopub.status.idle": "2020-10-17T09:41:21.101038Z",
     "shell.execute_reply": "2020-10-17T09:41:21.100473Z"
    },
    "papermill": {
     "duration": 0.037651,
     "end_time": "2020-10-17T09:41:21.101201",
     "exception": false,
     "start_time": "2020-10-17T09:41:21.063550",
     "status": "completed"
    },
    "tags": []
   },
   "outputs": [],
   "source": [
    "non_duplicated = non_duplicated.drop('timestamp', axis=1)"
   ]
  },
  {
   "cell_type": "markdown",
   "metadata": {
    "papermill": {
     "duration": 0.026854,
     "end_time": "2020-10-17T09:41:21.155588",
     "exception": false,
     "start_time": "2020-10-17T09:41:21.128734",
     "status": "completed"
    },
    "tags": []
   },
   "source": [
    "We can create some other columns related to date. They may be useful in the future."
   ]
  },
  {
   "cell_type": "code",
   "execution_count": 7,
   "metadata": {
    "execution": {
     "iopub.execute_input": "2020-10-17T09:41:21.231713Z",
     "iopub.status.busy": "2020-10-17T09:41:21.224977Z",
     "iopub.status.idle": "2020-10-17T09:41:21.247288Z",
     "shell.execute_reply": "2020-10-17T09:41:21.246668Z"
    },
    "papermill": {
     "duration": 0.064361,
     "end_time": "2020-10-17T09:41:21.247416",
     "exception": false,
     "start_time": "2020-10-17T09:41:21.183055",
     "status": "completed"
    },
    "tags": []
   },
   "outputs": [],
   "source": [
    "non_duplicated['day'] = non_duplicated.apply(lambda x: x['date'].day, axis = 1)\n",
    "non_duplicated['weekday'] = non_duplicated.apply(lambda x: x['date'].weekday(), axis = 1)\n",
    "non_duplicated['month'] = non_duplicated.apply(lambda x: x['date'].month, axis = 1)\n",
    "non_duplicated['week'] = non_duplicated.apply(lambda x: x['date'].isocalendar()[1], axis = 1)"
   ]
  },
  {
   "cell_type": "markdown",
   "metadata": {
    "papermill": {
     "duration": 0.027339,
     "end_time": "2020-10-17T09:41:21.302185",
     "exception": false,
     "start_time": "2020-10-17T09:41:21.274846",
     "status": "completed"
    },
    "tags": []
   },
   "source": [
    "I decided to transform 'attempted' and 'result' fields to be able to plot some graphs."
   ]
  },
  {
   "cell_type": "code",
   "execution_count": 8,
   "metadata": {
    "execution": {
     "iopub.execute_input": "2020-10-17T09:41:21.399483Z",
     "iopub.status.busy": "2020-10-17T09:41:21.386866Z",
     "iopub.status.idle": "2020-10-17T09:41:21.451678Z",
     "shell.execute_reply": "2020-10-17T09:41:21.451025Z"
    },
    "papermill": {
     "duration": 0.122282,
     "end_time": "2020-10-17T09:41:21.451799",
     "exception": false,
     "start_time": "2020-10-17T09:41:21.329517",
     "status": "completed"
    },
    "tags": []
   },
   "outputs": [],
   "source": [
    "def convert_result(row):\n",
    "    if row.result == True:\n",
    "        row.result = 1\n",
    "    else:\n",
    "        row.result = 0\n",
    "    return row\n",
    "\n",
    "def convert_att(row):\n",
    "    if row.attempted == True:\n",
    "        row.attempted = 1\n",
    "    else:\n",
    "        row.attempted = 0\n",
    "    return row\n",
    "\n",
    "non_duplicated = non_duplicated.apply(convert_result, axis = 1)\n",
    "non_duplicated = non_duplicated.apply(convert_att, axis = 1)"
   ]
  },
  {
   "cell_type": "code",
   "execution_count": 9,
   "metadata": {
    "execution": {
     "iopub.execute_input": "2020-10-17T09:41:21.523707Z",
     "iopub.status.busy": "2020-10-17T09:41:21.522691Z",
     "iopub.status.idle": "2020-10-17T09:41:21.527366Z",
     "shell.execute_reply": "2020-10-17T09:41:21.527888Z"
    },
    "papermill": {
     "duration": 0.048681,
     "end_time": "2020-10-17T09:41:21.528047",
     "exception": false,
     "start_time": "2020-10-17T09:41:21.479366",
     "status": "completed"
    },
    "tags": []
   },
   "outputs": [
    {
     "data": {
      "text/html": [
       "<div>\n",
       "<style scoped>\n",
       "    .dataframe tbody tr th:only-of-type {\n",
       "        vertical-align: middle;\n",
       "    }\n",
       "\n",
       "    .dataframe tbody tr th {\n",
       "        vertical-align: top;\n",
       "    }\n",
       "\n",
       "    .dataframe thead th {\n",
       "        text-align: right;\n",
       "    }\n",
       "</style>\n",
       "<table border=\"1\" class=\"dataframe\">\n",
       "  <thead>\n",
       "    <tr style=\"text-align: right;\">\n",
       "      <th></th>\n",
       "      <th>jobID</th>\n",
       "      <th>job</th>\n",
       "      <th>company</th>\n",
       "      <th>attempted</th>\n",
       "      <th>result</th>\n",
       "      <th>date</th>\n",
       "      <th>time</th>\n",
       "      <th>day</th>\n",
       "      <th>weekday</th>\n",
       "      <th>month</th>\n",
       "      <th>week</th>\n",
       "    </tr>\n",
       "  </thead>\n",
       "  <tbody>\n",
       "    <tr>\n",
       "      <th>0</th>\n",
       "      <td>1998149634</td>\n",
       "      <td>Data Analytics / Data Scientist</td>\n",
       "      <td>Evolutio Empowering the cloud</td>\n",
       "      <td>1</td>\n",
       "      <td>1</td>\n",
       "      <td>2020-09-09</td>\n",
       "      <td>18:01:14.040289</td>\n",
       "      <td>9</td>\n",
       "      <td>2</td>\n",
       "      <td>9</td>\n",
       "      <td>37</td>\n",
       "    </tr>\n",
       "    <tr>\n",
       "      <th>1</th>\n",
       "      <td>2011446983</td>\n",
       "      <td>Data Scientist</td>\n",
       "      <td>Experis Selecciï¿½n</td>\n",
       "      <td>1</td>\n",
       "      <td>1</td>\n",
       "      <td>2020-09-09</td>\n",
       "      <td>18:01:39.009284</td>\n",
       "      <td>9</td>\n",
       "      <td>2</td>\n",
       "      <td>9</td>\n",
       "      <td>37</td>\n",
       "    </tr>\n",
       "    <tr>\n",
       "      <th>2</th>\n",
       "      <td>2011445130</td>\n",
       "      <td>Data Engineer</td>\n",
       "      <td>SoYou_Bankia</td>\n",
       "      <td>1</td>\n",
       "      <td>1</td>\n",
       "      <td>2020-09-09</td>\n",
       "      <td>18:02:03.471147</td>\n",
       "      <td>9</td>\n",
       "      <td>2</td>\n",
       "      <td>9</td>\n",
       "      <td>37</td>\n",
       "    </tr>\n",
       "    <tr>\n",
       "      <th>3</th>\n",
       "      <td>1990255850</td>\n",
       "      <td>Data Scientist Junior</td>\n",
       "      <td>Strategy Big Data</td>\n",
       "      <td>0</td>\n",
       "      <td>0</td>\n",
       "      <td>2020-09-09</td>\n",
       "      <td>18:02:18.523716</td>\n",
       "      <td>9</td>\n",
       "      <td>2</td>\n",
       "      <td>9</td>\n",
       "      <td>37</td>\n",
       "    </tr>\n",
       "    <tr>\n",
       "      <th>4</th>\n",
       "      <td>2011254160</td>\n",
       "      <td>Data Scientist</td>\n",
       "      <td>Daimler Group Services Madrid</td>\n",
       "      <td>1</td>\n",
       "      <td>1</td>\n",
       "      <td>2020-09-09</td>\n",
       "      <td>18:02:44.209952</td>\n",
       "      <td>9</td>\n",
       "      <td>2</td>\n",
       "      <td>9</td>\n",
       "      <td>37</td>\n",
       "    </tr>\n",
       "  </tbody>\n",
       "</table>\n",
       "</div>"
      ],
      "text/plain": [
       "        jobID                              job                        company  \\\n",
       "0  1998149634  Data Analytics / Data Scientist  Evolutio Empowering the cloud   \n",
       "1  2011446983                   Data Scientist            Experis Selecciï¿½n   \n",
       "2  2011445130                    Data Engineer                   SoYou_Bankia   \n",
       "3  1990255850            Data Scientist Junior              Strategy Big Data   \n",
       "4  2011254160                   Data Scientist  Daimler Group Services Madrid   \n",
       "\n",
       "   attempted  result        date             time  day  weekday  month  week  \n",
       "0          1       1  2020-09-09  18:01:14.040289    9        2      9    37  \n",
       "1          1       1  2020-09-09  18:01:39.009284    9        2      9    37  \n",
       "2          1       1  2020-09-09  18:02:03.471147    9        2      9    37  \n",
       "3          0       0  2020-09-09  18:02:18.523716    9        2      9    37  \n",
       "4          1       1  2020-09-09  18:02:44.209952    9        2      9    37  "
      ]
     },
     "execution_count": 9,
     "metadata": {},
     "output_type": "execute_result"
    }
   ],
   "source": [
    "non_duplicated.head()"
   ]
  },
  {
   "cell_type": "markdown",
   "metadata": {
    "papermill": {
     "duration": 0.028007,
     "end_time": "2020-10-17T09:41:21.584484",
     "exception": false,
     "start_time": "2020-10-17T09:41:21.556477",
     "status": "completed"
    },
    "tags": []
   },
   "source": [
    "Now I group the data per day, counting every attempt and every successful submitting."
   ]
  },
  {
   "cell_type": "code",
   "execution_count": 10,
   "metadata": {
    "execution": {
     "iopub.execute_input": "2020-10-17T09:41:21.657382Z",
     "iopub.status.busy": "2020-10-17T09:41:21.656387Z",
     "iopub.status.idle": "2020-10-17T09:41:21.660551Z",
     "shell.execute_reply": "2020-10-17T09:41:21.661053Z"
    },
    "papermill": {
     "duration": 0.048383,
     "end_time": "2020-10-17T09:41:21.661221",
     "exception": false,
     "start_time": "2020-10-17T09:41:21.612838",
     "status": "completed"
    },
    "tags": []
   },
   "outputs": [
    {
     "data": {
      "text/html": [
       "<div>\n",
       "<style scoped>\n",
       "    .dataframe tbody tr th:only-of-type {\n",
       "        vertical-align: middle;\n",
       "    }\n",
       "\n",
       "    .dataframe tbody tr th {\n",
       "        vertical-align: top;\n",
       "    }\n",
       "\n",
       "    .dataframe thead th {\n",
       "        text-align: right;\n",
       "    }\n",
       "</style>\n",
       "<table border=\"1\" class=\"dataframe\">\n",
       "  <thead>\n",
       "    <tr style=\"text-align: right;\">\n",
       "      <th></th>\n",
       "      <th>attempted</th>\n",
       "      <th>result</th>\n",
       "    </tr>\n",
       "    <tr>\n",
       "      <th>date</th>\n",
       "      <th></th>\n",
       "      <th></th>\n",
       "    </tr>\n",
       "  </thead>\n",
       "  <tbody>\n",
       "    <tr>\n",
       "      <th>2020-09-09</th>\n",
       "      <td>16</td>\n",
       "      <td>14</td>\n",
       "    </tr>\n",
       "    <tr>\n",
       "      <th>2020-09-10</th>\n",
       "      <td>15</td>\n",
       "      <td>10</td>\n",
       "    </tr>\n",
       "    <tr>\n",
       "      <th>2020-09-11</th>\n",
       "      <td>13</td>\n",
       "      <td>12</td>\n",
       "    </tr>\n",
       "    <tr>\n",
       "      <th>2020-09-12</th>\n",
       "      <td>6</td>\n",
       "      <td>5</td>\n",
       "    </tr>\n",
       "    <tr>\n",
       "      <th>2020-09-13</th>\n",
       "      <td>7</td>\n",
       "      <td>4</td>\n",
       "    </tr>\n",
       "  </tbody>\n",
       "</table>\n",
       "</div>"
      ],
      "text/plain": [
       "            attempted  result\n",
       "date                         \n",
       "2020-09-09         16      14\n",
       "2020-09-10         15      10\n",
       "2020-09-11         13      12\n",
       "2020-09-12          6       5\n",
       "2020-09-13          7       4"
      ]
     },
     "execution_count": 10,
     "metadata": {},
     "output_type": "execute_result"
    }
   ],
   "source": [
    "group = non_duplicated[['date','attempted', 'result']].groupby(['date']).sum()\n",
    "\n",
    "group.head()"
   ]
  },
  {
   "cell_type": "code",
   "execution_count": 11,
   "metadata": {
    "execution": {
     "iopub.execute_input": "2020-10-17T09:41:21.725917Z",
     "iopub.status.busy": "2020-10-17T09:41:21.725093Z",
     "iopub.status.idle": "2020-10-17T09:41:22.267831Z",
     "shell.execute_reply": "2020-10-17T09:41:22.267241Z"
    },
    "papermill": {
     "duration": 0.577873,
     "end_time": "2020-10-17T09:41:22.267945",
     "exception": false,
     "start_time": "2020-10-17T09:41:21.690072",
     "status": "completed"
    },
    "tags": []
   },
   "outputs": [
    {
     "data": {
      "text/plain": [
       "<matplotlib.axes._subplots.AxesSubplot at 0x7f26a4f3d110>"
      ]
     },
     "execution_count": 11,
     "metadata": {},
     "output_type": "execute_result"
    },
    {
     "data": {
      "image/png": "[encoded data removed]",
      "text/plain": [
       "<Figure size 2664x720 with 1 Axes>"
      ]
     },
     "metadata": {
      "needs_background": "light"
     },
     "output_type": "display_data"
    }
   ],
   "source": [
    "plt.figure(figsize=(37,10))\n",
    "plt.title(\"Attempts per day\")\n",
    "\n",
    "sns.barplot(x=group.index, y=group['attempted'])"
   ]
  },
  {
   "cell_type": "code",
   "execution_count": 12,
   "metadata": {
    "execution": {
     "iopub.execute_input": "2020-10-17T09:41:22.340822Z",
     "iopub.status.busy": "2020-10-17T09:41:22.340089Z",
     "iopub.status.idle": "2020-10-17T09:41:22.826330Z",
     "shell.execute_reply": "2020-10-17T09:41:22.825748Z"
    },
    "papermill": {
     "duration": 0.527691,
     "end_time": "2020-10-17T09:41:22.826461",
     "exception": false,
     "start_time": "2020-10-17T09:41:22.298770",
     "status": "completed"
    },
    "tags": []
   },
   "outputs": [
    {
     "data": {
      "text/plain": [
       "<matplotlib.axes._subplots.AxesSubplot at 0x7f26a4fc7290>"
      ]
     },
     "execution_count": 12,
     "metadata": {},
     "output_type": "execute_result"
    },
    {
     "data": {
      "image/png": "[encoded data removed]",
      "text/plain": [
       "<Figure size 2664x720 with 1 Axes>"
      ]
     },
     "metadata": {
      "needs_background": "light"
     },
     "output_type": "display_data"
    }
   ],
   "source": [
    "plt.figure(figsize=(37,10))\n",
    "plt.title(\"Submitted applications per day\")\n",
    "\n",
    "sns.barplot(x=group.index, y=group['result'])"
   ]
  },
  {
   "cell_type": "code",
   "execution_count": 13,
   "metadata": {
    "execution": {
     "iopub.execute_input": "2020-10-17T09:41:22.908241Z",
     "iopub.status.busy": "2020-10-17T09:41:22.907317Z",
     "iopub.status.idle": "2020-10-17T09:41:22.912307Z",
     "shell.execute_reply": "2020-10-17T09:41:22.911679Z"
    },
    "papermill": {
     "duration": 0.053083,
     "end_time": "2020-10-17T09:41:22.912431",
     "exception": false,
     "start_time": "2020-10-17T09:41:22.859348",
     "status": "completed"
    },
    "tags": []
   },
   "outputs": [
    {
     "data": {
      "text/html": [
       "<div>\n",
       "<style scoped>\n",
       "    .dataframe tbody tr th:only-of-type {\n",
       "        vertical-align: middle;\n",
       "    }\n",
       "\n",
       "    .dataframe tbody tr th {\n",
       "        vertical-align: top;\n",
       "    }\n",
       "\n",
       "    .dataframe thead th {\n",
       "        text-align: right;\n",
       "    }\n",
       "</style>\n",
       "<table border=\"1\" class=\"dataframe\">\n",
       "  <thead>\n",
       "    <tr style=\"text-align: right;\">\n",
       "      <th></th>\n",
       "      <th>attempted</th>\n",
       "      <th>result</th>\n",
       "    </tr>\n",
       "    <tr>\n",
       "      <th>weekday</th>\n",
       "      <th></th>\n",
       "      <th></th>\n",
       "    </tr>\n",
       "  </thead>\n",
       "  <tbody>\n",
       "    <tr>\n",
       "      <th>0</th>\n",
       "      <td>29</td>\n",
       "      <td>22</td>\n",
       "    </tr>\n",
       "    <tr>\n",
       "      <th>1</th>\n",
       "      <td>22</td>\n",
       "      <td>17</td>\n",
       "    </tr>\n",
       "    <tr>\n",
       "      <th>2</th>\n",
       "      <td>43</td>\n",
       "      <td>34</td>\n",
       "    </tr>\n",
       "    <tr>\n",
       "      <th>3</th>\n",
       "      <td>64</td>\n",
       "      <td>47</td>\n",
       "    </tr>\n",
       "    <tr>\n",
       "      <th>4</th>\n",
       "      <td>41</td>\n",
       "      <td>36</td>\n",
       "    </tr>\n",
       "  </tbody>\n",
       "</table>\n",
       "</div>"
      ],
      "text/plain": [
       "         attempted  result\n",
       "weekday                   \n",
       "0               29      22\n",
       "1               22      17\n",
       "2               43      34\n",
       "3               64      47\n",
       "4               41      36"
      ]
     },
     "execution_count": 13,
     "metadata": {},
     "output_type": "execute_result"
    }
   ],
   "source": [
    "group2 = non_duplicated[['weekday','attempted', 'result']].groupby(['weekday']).sum()\n",
    "\n",
    "group2.head()"
   ]
  },
  {
   "cell_type": "code",
   "execution_count": 14,
   "metadata": {
    "execution": {
     "iopub.execute_input": "2020-10-17T09:41:23.076960Z",
     "iopub.status.busy": "2020-10-17T09:41:23.073511Z",
     "iopub.status.idle": "2020-10-17T09:41:23.262730Z",
     "shell.execute_reply": "2020-10-17T09:41:23.261973Z"
    },
    "papermill": {
     "duration": 0.316967,
     "end_time": "2020-10-17T09:41:23.262856",
     "exception": false,
     "start_time": "2020-10-17T09:41:22.945889",
     "status": "completed"
    },
    "tags": []
   },
   "outputs": [
    {
     "data": {
      "text/plain": [
       "<matplotlib.axes._subplots.AxesSubplot at 0x7f26a4b38950>"
      ]
     },
     "execution_count": 14,
     "metadata": {},
     "output_type": "execute_result"
    },
    {
     "data": {
      "image/png": "[encoded data removed]",
      "text/plain": [
       "<Figure size 1224x432 with 1 Axes>"
      ]
     },
     "metadata": {
      "needs_background": "light"
     },
     "output_type": "display_data"
    }
   ],
   "source": [
    "plt.figure(figsize=(17,6))\n",
    "plt.title(\"Attempts per weekday\")\n",
    "\n",
    "sns.barplot(x=group2.index, y=group2['attempted'])"
   ]
  },
  {
   "cell_type": "code",
   "execution_count": 15,
   "metadata": {
    "execution": {
     "iopub.execute_input": "2020-10-17T09:41:23.343932Z",
     "iopub.status.busy": "2020-10-17T09:41:23.339198Z",
     "iopub.status.idle": "2020-10-17T09:41:23.524317Z",
     "shell.execute_reply": "2020-10-17T09:41:23.523667Z"
    },
    "papermill": {
     "duration": 0.226699,
     "end_time": "2020-10-17T09:41:23.524443",
     "exception": false,
     "start_time": "2020-10-17T09:41:23.297744",
     "status": "completed"
    },
    "tags": []
   },
   "outputs": [
    {
     "data": {
      "text/plain": [
       "<matplotlib.axes._subplots.AxesSubplot at 0x7f26a4a4c7d0>"
      ]
     },
     "execution_count": 15,
     "metadata": {},
     "output_type": "execute_result"
    },
    {
     "data": {
      "image/png": "[encoded data removed]",
      "text/plain": [
       "<Figure size 1224x432 with 1 Axes>"
      ]
     },
     "metadata": {
      "needs_background": "light"
     },
     "output_type": "display_data"
    }
   ],
   "source": [
    "plt.figure(figsize=(17,6))\n",
    "plt.title(\"Submitted applications per weekday\")\n",
    "\n",
    "sns.barplot(x=group2.index, y=group2['result'])"
   ]
  },
  {
   "cell_type": "code",
   "execution_count": 16,
   "metadata": {
    "execution": {
     "iopub.execute_input": "2020-10-17T09:41:23.603932Z",
     "iopub.status.busy": "2020-10-17T09:41:23.603193Z",
     "iopub.status.idle": "2020-10-17T09:41:23.814492Z",
     "shell.execute_reply": "2020-10-17T09:41:23.813858Z"
    },
    "papermill": {
     "duration": 0.253892,
     "end_time": "2020-10-17T09:41:23.814620",
     "exception": false,
     "start_time": "2020-10-17T09:41:23.560728",
     "status": "completed"
    },
    "tags": []
   },
   "outputs": [
    {
     "data": {
      "text/plain": [
       "<matplotlib.axes._subplots.AxesSubplot at 0x7f26a4901750>"
      ]
     },
     "execution_count": 16,
     "metadata": {},
     "output_type": "execute_result"
    },
    {
     "data": {
      "image/png": "[encoded data removed]",
      "text/plain": [
       "<Figure size 1224x432 with 1 Axes>"
      ]
     },
     "metadata": {
      "needs_background": "light"
     },
     "output_type": "display_data"
    }
   ],
   "source": [
    "failed = group2['attempted'] - group2['result']\n",
    "\n",
    "plt.figure(figsize=(17,6))\n",
    "\n",
    "plt.title(\"Failed attemps per weekday\")\n",
    "\n",
    "sns.barplot(x=failed.index, y=failed)"
   ]
  },
  {
   "cell_type": "markdown",
   "metadata": {
    "papermill": {
     "duration": 0.039568,
     "end_time": "2020-10-17T09:41:23.892062",
     "exception": false,
     "start_time": "2020-10-17T09:41:23.852494",
     "status": "completed"
    },
    "tags": []
   },
   "source": [
    "It seems that there are more available jobs in the middle of the week (Wednesday, Thursday, and Friday)."
   ]
  },
  {
   "cell_type": "markdown",
   "metadata": {
    "papermill": {
     "duration": 0.044504,
     "end_time": "2020-10-17T09:41:23.983893",
     "exception": false,
     "start_time": "2020-10-17T09:41:23.939389",
     "status": "completed"
    },
    "tags": []
   },
   "source": [
    "I create another column with the dates when they called me (if so, 'nan' otherwise).\n",
    "\n",
    "I can take the jobID from the url, so I look for the id of the row in order to change the date_call from 'nan' to the corresponding date of the call."
   ]
  },
  {
   "cell_type": "code",
   "execution_count": 17,
   "metadata": {
    "execution": {
     "iopub.execute_input": "2020-10-17T09:41:24.079679Z",
     "iopub.status.busy": "2020-10-17T09:41:24.078894Z",
     "iopub.status.idle": "2020-10-17T09:41:24.095853Z",
     "shell.execute_reply": "2020-10-17T09:41:24.095024Z"
    },
    "papermill": {
     "duration": 0.064803,
     "end_time": "2020-10-17T09:41:24.096009",
     "exception": false,
     "start_time": "2020-10-17T09:41:24.031206",
     "status": "completed"
    },
    "tags": []
   },
   "outputs": [
    {
     "name": "stdout",
     "output_type": "stream",
     "text": [
      "92   NaN\n",
      "Name: date_call, dtype: float64\n",
      "950    NaN\n",
      "Name: date_call, dtype: object\n"
     ]
    }
   ],
   "source": [
    "#2019339369\n",
    "non_duplicated['date_call'] = np.nan\n",
    "\n",
    "print(non_duplicated.query('jobID == 2019339369')['date_call']) # id is equal to 92\n",
    "non_duplicated.loc[92,'date_call'] = datetime.date(2020, 9, 14)\n",
    "print(non_duplicated.query('jobID == 2164722520')['date_call']) # id is equal to 950\n",
    "non_duplicated.loc[950,'date_call'] = datetime.date(2020, 10, 8)"
   ]
  },
  {
   "cell_type": "markdown",
   "metadata": {
    "papermill": {
     "duration": 0.037826,
     "end_time": "2020-10-17T09:41:24.173281",
     "exception": false,
     "start_time": "2020-10-17T09:41:24.135455",
     "status": "completed"
    },
    "tags": []
   },
   "source": [
    "Now we can see how many job applications have a response."
   ]
  },
  {
   "cell_type": "code",
   "execution_count": 18,
   "metadata": {
    "execution": {
     "iopub.execute_input": "2020-10-17T09:41:24.268704Z",
     "iopub.status.busy": "2020-10-17T09:41:24.263136Z",
     "iopub.status.idle": "2020-10-17T09:41:24.337504Z",
     "shell.execute_reply": "2020-10-17T09:41:24.336868Z"
    },
    "papermill": {
     "duration": 0.125191,
     "end_time": "2020-10-17T09:41:24.337628",
     "exception": false,
     "start_time": "2020-10-17T09:41:24.212437",
     "status": "completed"
    },
    "tags": []
   },
   "outputs": [
    {
     "data": {
      "image/png": "[encoded data removed]",
      "text/plain": [
       "<Figure size 864x576 with 1 Axes>"
      ]
     },
     "metadata": {},
     "output_type": "display_data"
    },
    {
     "data": {
      "text/html": [
       "<div>\n",
       "<style scoped>\n",
       "    .dataframe tbody tr th:only-of-type {\n",
       "        vertical-align: middle;\n",
       "    }\n",
       "\n",
       "    .dataframe tbody tr th {\n",
       "        vertical-align: top;\n",
       "    }\n",
       "\n",
       "    .dataframe thead th {\n",
       "        text-align: right;\n",
       "    }\n",
       "</style>\n",
       "<table border=\"1\" class=\"dataframe\">\n",
       "  <thead>\n",
       "    <tr style=\"text-align: right;\">\n",
       "      <th></th>\n",
       "      <th>Total applications</th>\n",
       "      <th>Number of calls</th>\n",
       "    </tr>\n",
       "  </thead>\n",
       "  <tbody>\n",
       "    <tr>\n",
       "      <th>0</th>\n",
       "      <td>203</td>\n",
       "      <td>2</td>\n",
       "    </tr>\n",
       "  </tbody>\n",
       "</table>\n",
       "</div>"
      ],
      "text/plain": [
       "   Total applications  Number of calls\n",
       "0                 203                2"
      ]
     },
     "execution_count": 18,
     "metadata": {},
     "output_type": "execute_result"
    }
   ],
   "source": [
    "call = non_duplicated['date_call'].notnull().sum()\n",
    "d_call = non_duplicated['result'].value_counts()[1] - call\n",
    "\n",
    "p_call = call*100/d_call\n",
    "p_dcall = 100 - p_call\n",
    "\n",
    "# Creating dataset \n",
    "labels = \"Did call\", \"Didn't call\"\n",
    "  \n",
    "data = [p_call, p_dcall]\n",
    "  \n",
    "# Creating plot \n",
    "fig = plt.figure(figsize =(12, 8)) \n",
    "plt.pie(data, labels = labels, autopct='%1.1f%%', startangle=90) \n",
    "  \n",
    "# show plot \n",
    "plt.show() \n",
    "\n",
    "pd.DataFrame({'Total applications':[non_duplicated['result'].value_counts()[1]], 'Number of calls':[call]}).head()\n"
   ]
  },
  {
   "cell_type": "markdown",
   "metadata": {
    "papermill": {
     "duration": 0.039849,
     "end_time": "2020-10-17T09:41:24.417541",
     "exception": false,
     "start_time": "2020-10-17T09:41:24.377692",
     "status": "completed"
    },
    "tags": []
   },
   "source": [
    "Let's see how it looks the applications per week."
   ]
  },
  {
   "cell_type": "code",
   "execution_count": 19,
   "metadata": {
    "execution": {
     "iopub.execute_input": "2020-10-17T09:41:24.507326Z",
     "iopub.status.busy": "2020-10-17T09:41:24.506529Z",
     "iopub.status.idle": "2020-10-17T09:41:24.514521Z",
     "shell.execute_reply": "2020-10-17T09:41:24.513524Z"
    },
    "papermill": {
     "duration": 0.056996,
     "end_time": "2020-10-17T09:41:24.514685",
     "exception": false,
     "start_time": "2020-10-17T09:41:24.457689",
     "status": "completed"
    },
    "tags": []
   },
   "outputs": [
    {
     "name": "stdout",
     "output_type": "stream",
     "text": [
      "      attempted  result\n",
      "week                   \n",
      "37           57      45\n",
      "38           51      34\n",
      "39           36      30\n",
      "40           34      27\n",
      "41           77      63\n",
      "42            6       4\n"
     ]
    }
   ],
   "source": [
    "per_week = non_duplicated[['attempted', 'result', 'week']].groupby(['week']).sum()\n",
    "print(per_week)"
   ]
  },
  {
   "cell_type": "markdown",
   "metadata": {
    "papermill": {
     "duration": 0.045215,
     "end_time": "2020-10-17T09:41:24.602225",
     "exception": false,
     "start_time": "2020-10-17T09:41:24.557010",
     "status": "completed"
    },
    "tags": []
   },
   "source": [
    "Week 37 was the first one and the bot wasn't run every day, and week 42 was run just one day, so we'll ignore both of them."
   ]
  },
  {
   "cell_type": "code",
   "execution_count": 20,
   "metadata": {
    "execution": {
     "iopub.execute_input": "2020-10-17T09:41:24.700054Z",
     "iopub.status.busy": "2020-10-17T09:41:24.698940Z",
     "iopub.status.idle": "2020-10-17T09:41:24.703348Z",
     "shell.execute_reply": "2020-10-17T09:41:24.702630Z"
    },
    "papermill": {
     "duration": 0.054622,
     "end_time": "2020-10-17T09:41:24.703473",
     "exception": false,
     "start_time": "2020-10-17T09:41:24.648851",
     "status": "completed"
    },
    "tags": []
   },
   "outputs": [
    {
     "data": {
      "text/html": [
       "<div>\n",
       "<style scoped>\n",
       "    .dataframe tbody tr th:only-of-type {\n",
       "        vertical-align: middle;\n",
       "    }\n",
       "\n",
       "    .dataframe tbody tr th {\n",
       "        vertical-align: top;\n",
       "    }\n",
       "\n",
       "    .dataframe thead th {\n",
       "        text-align: right;\n",
       "    }\n",
       "</style>\n",
       "<table border=\"1\" class=\"dataframe\">\n",
       "  <thead>\n",
       "    <tr style=\"text-align: right;\">\n",
       "      <th></th>\n",
       "      <th>attempted</th>\n",
       "      <th>result</th>\n",
       "    </tr>\n",
       "    <tr>\n",
       "      <th>week</th>\n",
       "      <th></th>\n",
       "      <th></th>\n",
       "    </tr>\n",
       "  </thead>\n",
       "  <tbody>\n",
       "    <tr>\n",
       "      <th>38</th>\n",
       "      <td>51</td>\n",
       "      <td>34</td>\n",
       "    </tr>\n",
       "    <tr>\n",
       "      <th>39</th>\n",
       "      <td>36</td>\n",
       "      <td>30</td>\n",
       "    </tr>\n",
       "    <tr>\n",
       "      <th>40</th>\n",
       "      <td>34</td>\n",
       "      <td>27</td>\n",
       "    </tr>\n",
       "    <tr>\n",
       "      <th>41</th>\n",
       "      <td>77</td>\n",
       "      <td>63</td>\n",
       "    </tr>\n",
       "  </tbody>\n",
       "</table>\n",
       "</div>"
      ],
      "text/plain": [
       "      attempted  result\n",
       "week                   \n",
       "38           51      34\n",
       "39           36      30\n",
       "40           34      27\n",
       "41           77      63"
      ]
     },
     "execution_count": 20,
     "metadata": {},
     "output_type": "execute_result"
    }
   ],
   "source": [
    "per_week.loc[(per_week.index > 37) & (per_week.index < 42)]"
   ]
  },
  {
   "cell_type": "markdown",
   "metadata": {
    "papermill": {
     "duration": 0.041031,
     "end_time": "2020-10-17T09:41:24.785786",
     "exception": false,
     "start_time": "2020-10-17T09:41:24.744755",
     "status": "completed"
    },
    "tags": []
   },
   "source": [
    "We have to take into account that within week 38 I added new settings to look for more types of jobs. So the increment of attempts is normal, yet the results are more or less the same.\n",
    "\n",
    "Nonetheless, on week 41 we notice a huge increment of attempts and submitted applications. It seems that during that week more job positions were offered on LinkedIn. I can confirm that since I received way more offers during this week from other websites."
   ]
  },
  {
   "cell_type": "markdown",
   "metadata": {
    "papermill": {
     "duration": 0.04071,
     "end_time": "2020-10-17T09:41:24.868351",
     "exception": false,
     "start_time": "2020-10-17T09:41:24.827641",
     "status": "completed"
    },
    "tags": []
   },
   "source": [
    "# Conclusions"
   ]
  },
  {
   "cell_type": "markdown",
   "metadata": {
    "papermill": {
     "duration": 0.04147,
     "end_time": "2020-10-17T09:41:24.951236",
     "exception": false,
     "start_time": "2020-10-17T09:41:24.909766",
     "status": "completed"
    },
    "tags": []
   },
   "source": [
    "Finally, I achieved my goal, but unfortunately, it wasn't thanks to the bot.\n",
    "\n",
    "My conclusions about the tool are the following:\n",
    "\n",
    "1. There are a lot of job offers without an easy apply button (the obvious conclusion).\n",
    "\n",
    "2. There are job offers with specific forms. If they weren't previously fulfilled the application will not be submitted.\n",
    "\n",
    "3. Most of the jobs ask for experience. The bot doesn't care about that. A possible solution could be to add a new setting to include the seniority level, but there are a lot of inconsistent offers (they ask for a certain level of experience but the filter reflects a different level of seniority). This would mean a loss of potential jobs, so it's better if the bot sends as most applications as possible, even if the vast majority of the companies don't respond. \n",
    "\n",
    "4. The program fails whenever it reads a strange character. \n",
    "\n",
    "5. Just 1% of the applications were responded to, so it seems this bot isn't very useful (at least for entry-level engineers in Madrid).\n",
    "\n",
    "6. October is a good month to search for a job. \n",
    "\n",
    "And that's all folks. I won't be updating this anymore since I already have a job. I hope you've enjoyed this little project. I also hope you're luckier than me if you plan to use this bot. \n",
    "\n",
    "You can see this whole project in GitHub, with some extra visualizations using Qlik: [https://github.com/manuelalfredocolladocenteno/Jobs-analytics](http://)\n",
    "\n",
    "In case you're curious I'll tell you how many applications I submitted (approximately):\n",
    "\n",
    "* LinkedIn (EasyApply button: bot + manual): 288\n",
    "\n",
    "* Infojobs: 74\n",
    "\n",
    "* Other websites: 17\n",
    " \n",
    "* Company websites: Sadly, I didn't keep track of these, but they were at least 10. Anyway, I'm not counting them. \n",
    "\n",
    "So I sent a minimum of 379 applications and I was contacted by 15 companies (I'm just counting the contacts via phone call or video call).\n",
    "\n",
    "Thanks for reading. "
   ]
  }
 ],
 "metadata": {
  "kernelspec": {
   "display_name": "Python 3",
   "language": "python",
   "name": "python3"
  },
  "language_info": {
   "codemirror_mode": {
    "name": "ipython",
    "version": 3
   },
   "file_extension": ".py",
   "mimetype": "text/x-python",
   "name": "python",
   "nbconvert_exporter": "python",
   "pygments_lexer": "ipython3",
   "version": "3.7.6"
  },
  "papermill": {
   "duration": 10.047658,
   "end_time": "2020-10-17T09:41:25.100233",
   "environment_variables": {},
   "exception": null,
   "input_path": "__notebook__.ipynb",
   "output_path": "__notebook__.ipynb",
   "parameters": {},
   "start_time": "2020-10-17T09:41:15.052575",
   "version": "2.1.0"
  }
 },
 "nbformat": 4,
 "nbformat_minor": 4
}
