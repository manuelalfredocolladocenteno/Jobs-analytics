{
 "cells": [
  {
   "cell_type": "markdown",
   "metadata": {
    "papermill": {
     "duration": 0.015274,
     "end_time": "2020-09-16T11:37:11.587906",
     "exception": false,
     "start_time": "2020-09-16T11:37:11.572632",
     "status": "completed"
    },
    "tags": []
   },
   "source": [
    "# Jobs analytics"
   ]
  },
  {
   "cell_type": "markdown",
   "metadata": {
    "papermill": {
     "duration": 0.013994,
     "end_time": "2020-09-16T11:37:11.616260",
     "exception": false,
     "start_time": "2020-09-16T11:37:11.602266",
     "status": "completed"
    },
    "tags": []
   },
   "source": [
    "EasyApply Bot is a bot that helps you to apply to EasyApply offers on LinkedIn. Here is the project in case you are interested: https://github.com/nicolomantini/LinkedIn-Easy-Apply-Bot\n",
    "\n",
    "Once you run this program every attempt to apply to a job gets recorded in a CSV file. I've been using the bot for a time and now I want to make some analytics in order to learn something new.\n",
    "\n",
    "I set up the bot to look for jobs of data scientist, data engineer, data analyst, business intelligence and python."
   ]
  },
  {
   "cell_type": "code",
   "execution_count": 1,
   "metadata": {
    "_cell_guid": "b1076dfc-b9ad-4769-8c92-a6c4dae69d19",
    "_uuid": "8f2839f25d086af736a60e9eeb907d3b93b6e0e5",
    "execution": {
     "iopub.execute_input": "2020-09-16T11:37:11.651307Z",
     "iopub.status.busy": "2020-09-16T11:37:11.650640Z",
     "iopub.status.idle": "2020-09-16T11:37:11.657412Z",
     "shell.execute_reply": "2020-09-16T11:37:11.656755Z"
    },
    "papermill": {
     "duration": 0.026948,
     "end_time": "2020-09-16T11:37:11.657599",
     "exception": false,
     "start_time": "2020-09-16T11:37:11.630651",
     "status": "completed"
    },
    "tags": []
   },
   "outputs": [
    {
     "name": "stdout",
     "output_type": "stream",
     "text": [
      "/kaggle/input/jobs-applied-in-linkedin-with-easyapplybot/jobs.csv\n"
     ]
    }
   ],
   "source": [
    "# This Python 3 environment comes with many helpful analytics libraries installed\n",
    "# It is defined by the kaggle/python Docker image: https://github.com/kaggle/docker-python\n",
    "# For example, here's several helpful packages to load\n",
    "\n",
    "import numpy as np # linear algebra\n",
    "import pandas as pd # data processing, CSV file I/O (e.g. pd.read_csv)\n",
    "\n",
    "# Input data files are available in the read-only \"../input/\" directory\n",
    "# For example, running this (by clicking run or pressing Shift+Enter) will list all files under the input directory\n",
    "\n",
    "import os\n",
    "for dirname, _, filenames in os.walk('/kaggle/input'):\n",
    "    for filename in filenames:\n",
    "        print(os.path.join(dirname, filename))\n",
    "\n",
    "# You can write up to 5GB to the current directory (/kaggle/working/) that gets preserved as output when you create a version using \"Save & Run All\" \n",
    "# You can also write temporary files to /kaggle/temp/, but they won't be saved outside of the current session"
   ]
  },
  {
   "cell_type": "code",
   "execution_count": 2,
   "metadata": {
    "execution": {
     "iopub.execute_input": "2020-09-16T11:37:11.693749Z",
     "iopub.status.busy": "2020-09-16T11:37:11.693088Z",
     "iopub.status.idle": "2020-09-16T11:37:12.764640Z",
     "shell.execute_reply": "2020-09-16T11:37:12.763927Z"
    },
    "papermill": {
     "duration": 1.091644,
     "end_time": "2020-09-16T11:37:12.764762",
     "exception": false,
     "start_time": "2020-09-16T11:37:11.673118",
     "status": "completed"
    },
    "tags": []
   },
   "outputs": [],
   "source": [
    "pd.plotting.register_matplotlib_converters()\n",
    "import matplotlib.pyplot as plt\n",
    "%matplotlib inline\n",
    "import seaborn as sns"
   ]
  },
  {
   "cell_type": "code",
   "execution_count": 3,
   "metadata": {
    "_cell_guid": "79c7e3d0-c299-4dcb-8224-4455121ee9b0",
    "_uuid": "d629ff2d2480ee46fbb7e2d37f6b5fab8052498a",
    "execution": {
     "iopub.execute_input": "2020-09-16T11:37:12.801659Z",
     "iopub.status.busy": "2020-09-16T11:37:12.801030Z",
     "iopub.status.idle": "2020-09-16T11:37:12.832534Z",
     "shell.execute_reply": "2020-09-16T11:37:12.832999Z"
    },
    "papermill": {
     "duration": 0.051617,
     "end_time": "2020-09-16T11:37:12.833149",
     "exception": false,
     "start_time": "2020-09-16T11:37:12.781532",
     "status": "completed"
    },
    "tags": []
   },
   "outputs": [
    {
     "data": {
      "text/html": [
       "<div>\n",
       "<style scoped>\n",
       "    .dataframe tbody tr th:only-of-type {\n",
       "        vertical-align: middle;\n",
       "    }\n",
       "\n",
       "    .dataframe tbody tr th {\n",
       "        vertical-align: top;\n",
       "    }\n",
       "\n",
       "    .dataframe thead th {\n",
       "        text-align: right;\n",
       "    }\n",
       "</style>\n",
       "<table border=\"1\" class=\"dataframe\">\n",
       "  <thead>\n",
       "    <tr style=\"text-align: right;\">\n",
       "      <th></th>\n",
       "      <th>timestamp</th>\n",
       "      <th>jobID</th>\n",
       "      <th>job</th>\n",
       "      <th>company</th>\n",
       "      <th>attempted</th>\n",
       "      <th>result</th>\n",
       "    </tr>\n",
       "  </thead>\n",
       "  <tbody>\n",
       "    <tr>\n",
       "      <th>0</th>\n",
       "      <td>2020-09-09 18:01:14.040289</td>\n",
       "      <td>1998149634</td>\n",
       "      <td>Data Analytics / Data Scientist</td>\n",
       "      <td>Evolutio Empowering the cloud</td>\n",
       "      <td>True</td>\n",
       "      <td>True</td>\n",
       "    </tr>\n",
       "    <tr>\n",
       "      <th>1</th>\n",
       "      <td>2020-09-09 18:01:39.009284</td>\n",
       "      <td>2011446983</td>\n",
       "      <td>Data Scientist</td>\n",
       "      <td>Experis Selecciï¿½n</td>\n",
       "      <td>True</td>\n",
       "      <td>True</td>\n",
       "    </tr>\n",
       "    <tr>\n",
       "      <th>2</th>\n",
       "      <td>2020-09-09 18:02:03.471147</td>\n",
       "      <td>2011445130</td>\n",
       "      <td>Data Engineer</td>\n",
       "      <td>SoYou_Bankia</td>\n",
       "      <td>True</td>\n",
       "      <td>True</td>\n",
       "    </tr>\n",
       "    <tr>\n",
       "      <th>3</th>\n",
       "      <td>2020-09-09 18:02:18.523716</td>\n",
       "      <td>1990255850</td>\n",
       "      <td>Data Scientist Junior</td>\n",
       "      <td>Strategy Big Data</td>\n",
       "      <td>False</td>\n",
       "      <td>False</td>\n",
       "    </tr>\n",
       "    <tr>\n",
       "      <th>4</th>\n",
       "      <td>2020-09-09 18:02:44.209952</td>\n",
       "      <td>2011254160</td>\n",
       "      <td>Data Scientist</td>\n",
       "      <td>Daimler Group Services Madrid</td>\n",
       "      <td>True</td>\n",
       "      <td>True</td>\n",
       "    </tr>\n",
       "  </tbody>\n",
       "</table>\n",
       "</div>"
      ],
      "text/plain": [
       "                    timestamp       jobID                              job  \\\n",
       "0  2020-09-09 18:01:14.040289  1998149634  Data Analytics / Data Scientist   \n",
       "1  2020-09-09 18:01:39.009284  2011446983                   Data Scientist   \n",
       "2  2020-09-09 18:02:03.471147  2011445130                    Data Engineer   \n",
       "3  2020-09-09 18:02:18.523716  1990255850            Data Scientist Junior   \n",
       "4  2020-09-09 18:02:44.209952  2011254160                   Data Scientist   \n",
       "\n",
       "                         company  attempted  result  \n",
       "0  Evolutio Empowering the cloud       True    True  \n",
       "1            Experis Selecciï¿½n       True    True  \n",
       "2                   SoYou_Bankia       True    True  \n",
       "3              Strategy Big Data      False   False  \n",
       "4  Daimler Group Services Madrid       True    True  "
      ]
     },
     "execution_count": 3,
     "metadata": {},
     "output_type": "execute_result"
    }
   ],
   "source": [
    "my_filepath = \"../input/jobs-applied-in-linkedin-with-easyapplybot/jobs.csv\"\n",
    "\n",
    "my_data = pd.read_csv(my_filepath,encoding='latin1')\n",
    "\n",
    "my_data.head()"
   ]
  },
  {
   "cell_type": "markdown",
   "metadata": {
    "papermill": {
     "duration": 0.015102,
     "end_time": "2020-09-16T11:37:12.863543",
     "exception": false,
     "start_time": "2020-09-16T11:37:12.848441",
     "status": "completed"
    },
    "tags": []
   },
   "source": [
    "Since there are some offers that will be constantly visited I will drop all the offers already seen."
   ]
  },
  {
   "cell_type": "code",
   "execution_count": 4,
   "metadata": {
    "execution": {
     "iopub.execute_input": "2020-09-16T11:37:12.912154Z",
     "iopub.status.busy": "2020-09-16T11:37:12.911331Z",
     "iopub.status.idle": "2020-09-16T11:37:12.914307Z",
     "shell.execute_reply": "2020-09-16T11:37:12.914961Z"
    },
    "papermill": {
     "duration": 0.036408,
     "end_time": "2020-09-16T11:37:12.915142",
     "exception": false,
     "start_time": "2020-09-16T11:37:12.878734",
     "status": "completed"
    },
    "tags": []
   },
   "outputs": [
    {
     "name": "stdout",
     "output_type": "stream",
     "text": [
      "Jobs found:  91\n",
      "Successfully sent applications:  62\n",
      "Failed applications:  29\n"
     ]
    }
   ],
   "source": [
    "non_duplicated = my_data.drop_duplicates(['jobID'])\n",
    "\n",
    "print(\"Jobs found: \", len(non_duplicated['result']))\n",
    "print(\"Successfully sent applications: \", non_duplicated['result'].value_counts()[1])\n",
    "print(\"Failed applications: \", non_duplicated['result'].value_counts()[0])"
   ]
  },
  {
   "cell_type": "markdown",
   "metadata": {
    "papermill": {
     "duration": 0.015286,
     "end_time": "2020-09-16T11:37:12.947073",
     "exception": false,
     "start_time": "2020-09-16T11:37:12.931787",
     "status": "completed"
    },
    "tags": []
   },
   "source": [
    "Now we create two new columns from timestamp column."
   ]
  },
  {
   "cell_type": "code",
   "execution_count": 5,
   "metadata": {
    "execution": {
     "iopub.execute_input": "2020-09-16T11:37:12.984556Z",
     "iopub.status.busy": "2020-09-16T11:37:12.983840Z",
     "iopub.status.idle": "2020-09-16T11:37:12.999794Z",
     "shell.execute_reply": "2020-09-16T11:37:13.000277Z"
    },
    "papermill": {
     "duration": 0.037716,
     "end_time": "2020-09-16T11:37:13.000413",
     "exception": false,
     "start_time": "2020-09-16T11:37:12.962697",
     "status": "completed"
    },
    "tags": []
   },
   "outputs": [
    {
     "name": "stderr",
     "output_type": "stream",
     "text": [
      "/opt/conda/lib/python3.7/site-packages/ipykernel_launcher.py:2: SettingWithCopyWarning: \n",
      "A value is trying to be set on a copy of a slice from a DataFrame.\n",
      "Try using .loc[row_indexer,col_indexer] = value instead\n",
      "\n",
      "See the caveats in the documentation: https://pandas.pydata.org/pandas-docs/stable/user_guide/indexing.html#returning-a-view-versus-a-copy\n",
      "  \n",
      "/opt/conda/lib/python3.7/site-packages/ipykernel_launcher.py:3: SettingWithCopyWarning: \n",
      "A value is trying to be set on a copy of a slice from a DataFrame.\n",
      "Try using .loc[row_indexer,col_indexer] = value instead\n",
      "\n",
      "See the caveats in the documentation: https://pandas.pydata.org/pandas-docs/stable/user_guide/indexing.html#returning-a-view-versus-a-copy\n",
      "  This is separate from the ipykernel package so we can avoid doing imports until\n"
     ]
    }
   ],
   "source": [
    "import datetime\n",
    "non_duplicated['date'] = non_duplicated.apply(lambda x: datetime.datetime.strptime(x['timestamp'], '%Y-%m-%d %H:%M:%S.%f').date(), axis = 1)\n",
    "non_duplicated['time'] = non_duplicated.apply(lambda x: datetime.datetime.strptime(x['timestamp'], '%Y-%m-%d %H:%M:%S.%f').time(), axis = 1)"
   ]
  },
  {
   "cell_type": "markdown",
   "metadata": {
    "papermill": {
     "duration": 0.015737,
     "end_time": "2020-09-16T11:37:13.032909",
     "exception": false,
     "start_time": "2020-09-16T11:37:13.017172",
     "status": "completed"
    },
    "tags": []
   },
   "source": [
    "Now we can drop timestamp column since it is already useless."
   ]
  },
  {
   "cell_type": "code",
   "execution_count": 6,
   "metadata": {
    "execution": {
     "iopub.execute_input": "2020-09-16T11:37:13.072954Z",
     "iopub.status.busy": "2020-09-16T11:37:13.072287Z",
     "iopub.status.idle": "2020-09-16T11:37:13.074958Z",
     "shell.execute_reply": "2020-09-16T11:37:13.075366Z"
    },
    "papermill": {
     "duration": 0.026682,
     "end_time": "2020-09-16T11:37:13.075551",
     "exception": false,
     "start_time": "2020-09-16T11:37:13.048869",
     "status": "completed"
    },
    "tags": []
   },
   "outputs": [],
   "source": [
    "non_duplicated = non_duplicated.drop('timestamp', axis=1)"
   ]
  },
  {
   "cell_type": "markdown",
   "metadata": {
    "papermill": {
     "duration": 0.016456,
     "end_time": "2020-09-16T11:37:13.108288",
     "exception": false,
     "start_time": "2020-09-16T11:37:13.091832",
     "status": "completed"
    },
    "tags": []
   },
   "source": [
    "We can create some other columns related to date. They may be useful in the future."
   ]
  },
  {
   "cell_type": "code",
   "execution_count": 7,
   "metadata": {
    "execution": {
     "iopub.execute_input": "2020-09-16T11:37:13.154878Z",
     "iopub.status.busy": "2020-09-16T11:37:13.154219Z",
     "iopub.status.idle": "2020-09-16T11:37:13.156782Z",
     "shell.execute_reply": "2020-09-16T11:37:13.157203Z"
    },
    "papermill": {
     "duration": 0.032917,
     "end_time": "2020-09-16T11:37:13.157342",
     "exception": false,
     "start_time": "2020-09-16T11:37:13.124425",
     "status": "completed"
    },
    "tags": []
   },
   "outputs": [],
   "source": [
    "non_duplicated['day'] = non_duplicated.apply(lambda x: x['date'].day, axis = 1)\n",
    "non_duplicated['weekday'] = non_duplicated.apply(lambda x: x['date'].weekday(), axis = 1)\n",
    "non_duplicated['month'] = non_duplicated.apply(lambda x: x['date'].month, axis = 1)"
   ]
  },
  {
   "cell_type": "markdown",
   "metadata": {
    "papermill": {
     "duration": 0.016536,
     "end_time": "2020-09-16T11:37:13.190257",
     "exception": false,
     "start_time": "2020-09-16T11:37:13.173721",
     "status": "completed"
    },
    "tags": []
   },
   "source": [
    "I decided to transform 'attempted' and 'result' fields to be able to plot some graphs."
   ]
  },
  {
   "cell_type": "code",
   "execution_count": 8,
   "metadata": {
    "execution": {
     "iopub.execute_input": "2020-09-16T11:37:13.253927Z",
     "iopub.status.busy": "2020-09-16T11:37:13.253284Z",
     "iopub.status.idle": "2020-09-16T11:37:13.256003Z",
     "shell.execute_reply": "2020-09-16T11:37:13.255392Z"
    },
    "papermill": {
     "duration": 0.049308,
     "end_time": "2020-09-16T11:37:13.256110",
     "exception": false,
     "start_time": "2020-09-16T11:37:13.206802",
     "status": "completed"
    },
    "tags": []
   },
   "outputs": [],
   "source": [
    "def convert_result(row):\n",
    "    if row.result == True:\n",
    "        row.result = 1\n",
    "    else:\n",
    "        row.result = 0\n",
    "    return row\n",
    "\n",
    "def convert_att(row):\n",
    "    if row.attempted == True:\n",
    "        row.attempted = 1\n",
    "    else:\n",
    "        row.attempted = 0\n",
    "    return row\n",
    "\n",
    "non_duplicated = non_duplicated.apply(convert_result, axis = 1)\n",
    "non_duplicated = non_duplicated.apply(convert_att, axis = 1)"
   ]
  },
  {
   "cell_type": "code",
   "execution_count": 9,
   "metadata": {
    "execution": {
     "iopub.execute_input": "2020-09-16T11:37:13.302130Z",
     "iopub.status.busy": "2020-09-16T11:37:13.301353Z",
     "iopub.status.idle": "2020-09-16T11:37:13.305541Z",
     "shell.execute_reply": "2020-09-16T11:37:13.304921Z"
    },
    "papermill": {
     "duration": 0.03302,
     "end_time": "2020-09-16T11:37:13.305650",
     "exception": false,
     "start_time": "2020-09-16T11:37:13.272630",
     "status": "completed"
    },
    "tags": []
   },
   "outputs": [
    {
     "data": {
      "text/html": [
       "<div>\n",
       "<style scoped>\n",
       "    .dataframe tbody tr th:only-of-type {\n",
       "        vertical-align: middle;\n",
       "    }\n",
       "\n",
       "    .dataframe tbody tr th {\n",
       "        vertical-align: top;\n",
       "    }\n",
       "\n",
       "    .dataframe thead th {\n",
       "        text-align: right;\n",
       "    }\n",
       "</style>\n",
       "<table border=\"1\" class=\"dataframe\">\n",
       "  <thead>\n",
       "    <tr style=\"text-align: right;\">\n",
       "      <th></th>\n",
       "      <th>jobID</th>\n",
       "      <th>job</th>\n",
       "      <th>company</th>\n",
       "      <th>attempted</th>\n",
       "      <th>result</th>\n",
       "      <th>date</th>\n",
       "      <th>time</th>\n",
       "      <th>day</th>\n",
       "      <th>weekday</th>\n",
       "      <th>month</th>\n",
       "    </tr>\n",
       "  </thead>\n",
       "  <tbody>\n",
       "    <tr>\n",
       "      <th>0</th>\n",
       "      <td>1998149634</td>\n",
       "      <td>Data Analytics / Data Scientist</td>\n",
       "      <td>Evolutio Empowering the cloud</td>\n",
       "      <td>1</td>\n",
       "      <td>1</td>\n",
       "      <td>2020-09-09</td>\n",
       "      <td>18:01:14.040289</td>\n",
       "      <td>9</td>\n",
       "      <td>2</td>\n",
       "      <td>9</td>\n",
       "    </tr>\n",
       "    <tr>\n",
       "      <th>1</th>\n",
       "      <td>2011446983</td>\n",
       "      <td>Data Scientist</td>\n",
       "      <td>Experis Selecciï¿½n</td>\n",
       "      <td>1</td>\n",
       "      <td>1</td>\n",
       "      <td>2020-09-09</td>\n",
       "      <td>18:01:39.009284</td>\n",
       "      <td>9</td>\n",
       "      <td>2</td>\n",
       "      <td>9</td>\n",
       "    </tr>\n",
       "    <tr>\n",
       "      <th>2</th>\n",
       "      <td>2011445130</td>\n",
       "      <td>Data Engineer</td>\n",
       "      <td>SoYou_Bankia</td>\n",
       "      <td>1</td>\n",
       "      <td>1</td>\n",
       "      <td>2020-09-09</td>\n",
       "      <td>18:02:03.471147</td>\n",
       "      <td>9</td>\n",
       "      <td>2</td>\n",
       "      <td>9</td>\n",
       "    </tr>\n",
       "    <tr>\n",
       "      <th>3</th>\n",
       "      <td>1990255850</td>\n",
       "      <td>Data Scientist Junior</td>\n",
       "      <td>Strategy Big Data</td>\n",
       "      <td>0</td>\n",
       "      <td>0</td>\n",
       "      <td>2020-09-09</td>\n",
       "      <td>18:02:18.523716</td>\n",
       "      <td>9</td>\n",
       "      <td>2</td>\n",
       "      <td>9</td>\n",
       "    </tr>\n",
       "    <tr>\n",
       "      <th>4</th>\n",
       "      <td>2011254160</td>\n",
       "      <td>Data Scientist</td>\n",
       "      <td>Daimler Group Services Madrid</td>\n",
       "      <td>1</td>\n",
       "      <td>1</td>\n",
       "      <td>2020-09-09</td>\n",
       "      <td>18:02:44.209952</td>\n",
       "      <td>9</td>\n",
       "      <td>2</td>\n",
       "      <td>9</td>\n",
       "    </tr>\n",
       "  </tbody>\n",
       "</table>\n",
       "</div>"
      ],
      "text/plain": [
       "        jobID                              job                        company  \\\n",
       "0  1998149634  Data Analytics / Data Scientist  Evolutio Empowering the cloud   \n",
       "1  2011446983                   Data Scientist            Experis Selecciï¿½n   \n",
       "2  2011445130                    Data Engineer                   SoYou_Bankia   \n",
       "3  1990255850            Data Scientist Junior              Strategy Big Data   \n",
       "4  2011254160                   Data Scientist  Daimler Group Services Madrid   \n",
       "\n",
       "   attempted  result        date             time  day  weekday  month  \n",
       "0          1       1  2020-09-09  18:01:14.040289    9        2      9  \n",
       "1          1       1  2020-09-09  18:01:39.009284    9        2      9  \n",
       "2          1       1  2020-09-09  18:02:03.471147    9        2      9  \n",
       "3          0       0  2020-09-09  18:02:18.523716    9        2      9  \n",
       "4          1       1  2020-09-09  18:02:44.209952    9        2      9  "
      ]
     },
     "execution_count": 9,
     "metadata": {},
     "output_type": "execute_result"
    }
   ],
   "source": [
    "non_duplicated.head()"
   ]
  },
  {
   "cell_type": "markdown",
   "metadata": {
    "papermill": {
     "duration": 0.016859,
     "end_time": "2020-09-16T11:37:13.339603",
     "exception": false,
     "start_time": "2020-09-16T11:37:13.322744",
     "status": "completed"
    },
    "tags": []
   },
   "source": [
    "Now I group the data per day, counting every attempt and every successful submitting."
   ]
  },
  {
   "cell_type": "code",
   "execution_count": 10,
   "metadata": {
    "execution": {
     "iopub.execute_input": "2020-09-16T11:37:13.387007Z",
     "iopub.status.busy": "2020-09-16T11:37:13.385082Z",
     "iopub.status.idle": "2020-09-16T11:37:13.391213Z",
     "shell.execute_reply": "2020-09-16T11:37:13.390629Z"
    },
    "papermill": {
     "duration": 0.034913,
     "end_time": "2020-09-16T11:37:13.391317",
     "exception": false,
     "start_time": "2020-09-16T11:37:13.356404",
     "status": "completed"
    },
    "tags": []
   },
   "outputs": [
    {
     "data": {
      "text/html": [
       "<div>\n",
       "<style scoped>\n",
       "    .dataframe tbody tr th:only-of-type {\n",
       "        vertical-align: middle;\n",
       "    }\n",
       "\n",
       "    .dataframe tbody tr th {\n",
       "        vertical-align: top;\n",
       "    }\n",
       "\n",
       "    .dataframe thead th {\n",
       "        text-align: right;\n",
       "    }\n",
       "</style>\n",
       "<table border=\"1\" class=\"dataframe\">\n",
       "  <thead>\n",
       "    <tr style=\"text-align: right;\">\n",
       "      <th></th>\n",
       "      <th>attempted</th>\n",
       "      <th>result</th>\n",
       "    </tr>\n",
       "    <tr>\n",
       "      <th>day</th>\n",
       "      <th></th>\n",
       "      <th></th>\n",
       "    </tr>\n",
       "  </thead>\n",
       "  <tbody>\n",
       "    <tr>\n",
       "      <th>9</th>\n",
       "      <td>16</td>\n",
       "      <td>14</td>\n",
       "    </tr>\n",
       "    <tr>\n",
       "      <th>10</th>\n",
       "      <td>15</td>\n",
       "      <td>10</td>\n",
       "    </tr>\n",
       "    <tr>\n",
       "      <th>11</th>\n",
       "      <td>13</td>\n",
       "      <td>12</td>\n",
       "    </tr>\n",
       "    <tr>\n",
       "      <th>12</th>\n",
       "      <td>6</td>\n",
       "      <td>5</td>\n",
       "    </tr>\n",
       "    <tr>\n",
       "      <th>13</th>\n",
       "      <td>7</td>\n",
       "      <td>4</td>\n",
       "    </tr>\n",
       "  </tbody>\n",
       "</table>\n",
       "</div>"
      ],
      "text/plain": [
       "     attempted  result\n",
       "day                   \n",
       "9           16      14\n",
       "10          15      10\n",
       "11          13      12\n",
       "12           6       5\n",
       "13           7       4"
      ]
     },
     "execution_count": 10,
     "metadata": {},
     "output_type": "execute_result"
    }
   ],
   "source": [
    "group = non_duplicated[['day','attempted', 'result']].groupby(['day']).sum()\n",
    "\n",
    "group.head()"
   ]
  },
  {
   "cell_type": "code",
   "execution_count": 11,
   "metadata": {
    "execution": {
     "iopub.execute_input": "2020-09-16T11:37:13.431353Z",
     "iopub.status.busy": "2020-09-16T11:37:13.430737Z",
     "iopub.status.idle": "2020-09-16T11:37:13.667996Z",
     "shell.execute_reply": "2020-09-16T11:37:13.667336Z"
    },
    "papermill": {
     "duration": 0.259218,
     "end_time": "2020-09-16T11:37:13.668110",
     "exception": false,
     "start_time": "2020-09-16T11:37:13.408892",
     "status": "completed"
    },
    "tags": []
   },
   "outputs": [
    {
     "data": {
      "text/plain": [
       "<matplotlib.axes._subplots.AxesSubplot at 0x7fe6f7f13fd0>"
      ]
     },
     "execution_count": 11,
     "metadata": {},
     "output_type": "execute_result"
    },
    {
     "data": {
      "image/png": "[encoded data removed]",
      "text/plain": [
       "<Figure size 1224x432 with 1 Axes>"
      ]
     },
     "metadata": {
      "needs_background": "light"
     },
     "output_type": "display_data"
    }
   ],
   "source": [
    "plt.figure(figsize=(17,6))\n",
    "plt.title(\"Attempts per day\")\n",
    "\n",
    "sns.barplot(x=group.index, y=group['attempted'])"
   ]
  },
  {
   "cell_type": "code",
   "execution_count": 12,
   "metadata": {
    "execution": {
     "iopub.execute_input": "2020-09-16T11:37:13.716365Z",
     "iopub.status.busy": "2020-09-16T11:37:13.715737Z",
     "iopub.status.idle": "2020-09-16T11:37:13.877403Z",
     "shell.execute_reply": "2020-09-16T11:37:13.876793Z"
    },
    "papermill": {
     "duration": 0.189282,
     "end_time": "2020-09-16T11:37:13.877537",
     "exception": false,
     "start_time": "2020-09-16T11:37:13.688255",
     "status": "completed"
    },
    "tags": []
   },
   "outputs": [
    {
     "data": {
      "text/plain": [
       "<matplotlib.axes._subplots.AxesSubplot at 0x7fe6f7aeafd0>"
      ]
     },
     "execution_count": 12,
     "metadata": {},
     "output_type": "execute_result"
    },
    {
     "data": {
      "image/png": "[encoded data removed]",
      "text/plain": [
       "<Figure size 1224x432 with 1 Axes>"
      ]
     },
     "metadata": {
      "needs_background": "light"
     },
     "output_type": "display_data"
    }
   ],
   "source": [
    "plt.figure(figsize=(17,6))\n",
    "plt.title(\"Submitted applications per day\")\n",
    "\n",
    "sns.barplot(x=group.index, y=group['result'])"
   ]
  },
  {
   "cell_type": "code",
   "execution_count": 13,
   "metadata": {
    "execution": {
     "iopub.execute_input": "2020-09-16T11:37:13.928961Z",
     "iopub.status.busy": "2020-09-16T11:37:13.928057Z",
     "iopub.status.idle": "2020-09-16T11:37:13.931934Z",
     "shell.execute_reply": "2020-09-16T11:37:13.931307Z"
    },
    "papermill": {
     "duration": 0.034653,
     "end_time": "2020-09-16T11:37:13.932037",
     "exception": false,
     "start_time": "2020-09-16T11:37:13.897384",
     "status": "completed"
    },
    "tags": []
   },
   "outputs": [
    {
     "data": {
      "text/html": [
       "<div>\n",
       "<style scoped>\n",
       "    .dataframe tbody tr th:only-of-type {\n",
       "        vertical-align: middle;\n",
       "    }\n",
       "\n",
       "    .dataframe tbody tr th {\n",
       "        vertical-align: top;\n",
       "    }\n",
       "\n",
       "    .dataframe thead th {\n",
       "        text-align: right;\n",
       "    }\n",
       "</style>\n",
       "<table border=\"1\" class=\"dataframe\">\n",
       "  <thead>\n",
       "    <tr style=\"text-align: right;\">\n",
       "      <th></th>\n",
       "      <th>attempted</th>\n",
       "      <th>result</th>\n",
       "    </tr>\n",
       "    <tr>\n",
       "      <th>weekday</th>\n",
       "      <th></th>\n",
       "      <th></th>\n",
       "    </tr>\n",
       "  </thead>\n",
       "  <tbody>\n",
       "    <tr>\n",
       "      <th>0</th>\n",
       "      <td>10</td>\n",
       "      <td>6</td>\n",
       "    </tr>\n",
       "    <tr>\n",
       "      <th>1</th>\n",
       "      <td>9</td>\n",
       "      <td>6</td>\n",
       "    </tr>\n",
       "    <tr>\n",
       "      <th>2</th>\n",
       "      <td>24</td>\n",
       "      <td>19</td>\n",
       "    </tr>\n",
       "    <tr>\n",
       "      <th>3</th>\n",
       "      <td>15</td>\n",
       "      <td>10</td>\n",
       "    </tr>\n",
       "    <tr>\n",
       "      <th>4</th>\n",
       "      <td>13</td>\n",
       "      <td>12</td>\n",
       "    </tr>\n",
       "  </tbody>\n",
       "</table>\n",
       "</div>"
      ],
      "text/plain": [
       "         attempted  result\n",
       "weekday                   \n",
       "0               10       6\n",
       "1                9       6\n",
       "2               24      19\n",
       "3               15      10\n",
       "4               13      12"
      ]
     },
     "execution_count": 13,
     "metadata": {},
     "output_type": "execute_result"
    }
   ],
   "source": [
    "group2 = non_duplicated[['weekday','attempted', 'result']].groupby(['weekday']).sum()\n",
    "\n",
    "group2.head()"
   ]
  },
  {
   "cell_type": "code",
   "execution_count": 14,
   "metadata": {
    "execution": {
     "iopub.execute_input": "2020-09-16T11:37:13.983514Z",
     "iopub.status.busy": "2020-09-16T11:37:13.982097Z",
     "iopub.status.idle": "2020-09-16T11:37:14.128785Z",
     "shell.execute_reply": "2020-09-16T11:37:14.128223Z"
    },
    "papermill": {
     "duration": 0.176928,
     "end_time": "2020-09-16T11:37:14.128896",
     "exception": false,
     "start_time": "2020-09-16T11:37:13.951968",
     "status": "completed"
    },
    "tags": []
   },
   "outputs": [
    {
     "data": {
      "text/plain": [
       "<matplotlib.axes._subplots.AxesSubplot at 0x7fe6f7cd4490>"
      ]
     },
     "execution_count": 14,
     "metadata": {},
     "output_type": "execute_result"
    },
    {
     "data": {
      "image/png": "[encoded data removed]",
      "text/plain": [
       "<Figure size 1224x432 with 1 Axes>"
      ]
     },
     "metadata": {
      "needs_background": "light"
     },
     "output_type": "display_data"
    }
   ],
   "source": [
    "plt.figure(figsize=(17,6))\n",
    "plt.title(\"Attempts per weekday\")\n",
    "\n",
    "sns.barplot(x=group2.index, y=group2['attempted'])"
   ]
  },
  {
   "cell_type": "code",
   "execution_count": 15,
   "metadata": {
    "execution": {
     "iopub.execute_input": "2020-09-16T11:37:14.182707Z",
     "iopub.status.busy": "2020-09-16T11:37:14.181551Z",
     "iopub.status.idle": "2020-09-16T11:37:14.342672Z",
     "shell.execute_reply": "2020-09-16T11:37:14.343107Z"
    },
    "papermill": {
     "duration": 0.19288,
     "end_time": "2020-09-16T11:37:14.343254",
     "exception": false,
     "start_time": "2020-09-16T11:37:14.150374",
     "status": "completed"
    },
    "tags": []
   },
   "outputs": [
    {
     "data": {
      "text/plain": [
       "<matplotlib.axes._subplots.AxesSubplot at 0x7fe6f7c2ddd0>"
      ]
     },
     "execution_count": 15,
     "metadata": {},
     "output_type": "execute_result"
    },
    {
     "data": {
      "image/png": "[encoded data removed]",
      "text/plain": [
       "<Figure size 1224x432 with 1 Axes>"
      ]
     },
     "metadata": {
      "needs_background": "light"
     },
     "output_type": "display_data"
    }
   ],
   "source": [
    "plt.figure(figsize=(17,6))\n",
    "plt.title(\"Submitted applications per weekday\")\n",
    "\n",
    "sns.barplot(x=group2.index, y=group2['result'])"
   ]
  },
  {
   "cell_type": "code",
   "execution_count": 16,
   "metadata": {
    "execution": {
     "iopub.execute_input": "2020-09-16T11:37:14.393864Z",
     "iopub.status.busy": "2020-09-16T11:37:14.393193Z",
     "iopub.status.idle": "2020-09-16T11:37:14.635205Z",
     "shell.execute_reply": "2020-09-16T11:37:14.634604Z"
    },
    "papermill": {
     "duration": 0.269715,
     "end_time": "2020-09-16T11:37:14.635314",
     "exception": false,
     "start_time": "2020-09-16T11:37:14.365599",
     "status": "completed"
    },
    "tags": []
   },
   "outputs": [
    {
     "data": {
      "text/plain": [
       "<matplotlib.axes._subplots.AxesSubplot at 0x7fe6f7b88cd0>"
      ]
     },
     "execution_count": 16,
     "metadata": {},
     "output_type": "execute_result"
    },
    {
     "data": {
      "image/png": "[encoded data removed]",
      "text/plain": [
       "<Figure size 1224x432 with 1 Axes>"
      ]
     },
     "metadata": {
      "needs_background": "light"
     },
     "output_type": "display_data"
    }
   ],
   "source": [
    "failed = group2['attempted'] - group2['result']\n",
    "\n",
    "plt.figure(figsize=(17,6))\n",
    "\n",
    "plt.title(\"Failed attemps per weekday\")\n",
    "\n",
    "sns.barplot(x=failed.index, y=failed)"
   ]
  },
  {
   "cell_type": "markdown",
   "metadata": {
    "papermill": {
     "duration": 0.023149,
     "end_time": "2020-09-16T11:37:14.682084",
     "exception": false,
     "start_time": "2020-09-16T11:37:14.658935",
     "status": "completed"
    },
    "tags": []
   },
   "source": [
    "It's too soon to make some conclusions since there is still too little data in the dataset. For now, it seems that there are more available jobs in the middle of the week (Wednesday, Thursday, and Friday), but we can't be sure if it is something general or just a coincidence. We'll be watching."
   ]
  },
  {
   "cell_type": "markdown",
   "metadata": {
    "papermill": {
     "duration": 0.023062,
     "end_time": "2020-09-16T11:37:14.728742",
     "exception": false,
     "start_time": "2020-09-16T11:37:14.705680",
     "status": "completed"
    },
    "tags": []
   },
   "source": [
    "I create another column with the dates when they called me (if so, 'nan' otherwise).\n",
    "\n",
    "I can take the jobID from the url, so I look for the id of the row in order to change the date_call from 'nan' to the corresponding date of the call."
   ]
  },
  {
   "cell_type": "code",
   "execution_count": 17,
   "metadata": {
    "execution": {
     "iopub.execute_input": "2020-09-16T11:37:14.788884Z",
     "iopub.status.busy": "2020-09-16T11:37:14.788094Z",
     "iopub.status.idle": "2020-09-16T11:37:14.791741Z",
     "shell.execute_reply": "2020-09-16T11:37:14.791131Z"
    },
    "papermill": {
     "duration": 0.039583,
     "end_time": "2020-09-16T11:37:14.791851",
     "exception": false,
     "start_time": "2020-09-16T11:37:14.752268",
     "status": "completed"
    },
    "tags": []
   },
   "outputs": [
    {
     "name": "stdout",
     "output_type": "stream",
     "text": [
      "92   NaN\n",
      "Name: date_call, dtype: float64\n"
     ]
    }
   ],
   "source": [
    "#2019339369\n",
    "non_duplicated['date_call'] = np.nan\n",
    "\n",
    "print(non_duplicated.query('jobID == 2019339369')['date_call']) # id is equal to 92\n",
    "non_duplicated.loc[92,'date_call'] = datetime.date(2020, 9, 14)"
   ]
  },
  {
   "cell_type": "markdown",
   "metadata": {
    "papermill": {
     "duration": 0.023557,
     "end_time": "2020-09-16T11:37:14.839371",
     "exception": false,
     "start_time": "2020-09-16T11:37:14.815814",
     "status": "completed"
    },
    "tags": []
   },
   "source": [
    "Now we can see how many job applications have a response."
   ]
  },
  {
   "cell_type": "code",
   "execution_count": 18,
   "metadata": {
    "execution": {
     "iopub.execute_input": "2020-09-16T11:37:14.903326Z",
     "iopub.status.busy": "2020-09-16T11:37:14.897011Z",
     "iopub.status.idle": "2020-09-16T11:37:14.961539Z",
     "shell.execute_reply": "2020-09-16T11:37:14.960898Z"
    },
    "papermill": {
     "duration": 0.098311,
     "end_time": "2020-09-16T11:37:14.961651",
     "exception": false,
     "start_time": "2020-09-16T11:37:14.863340",
     "status": "completed"
    },
    "tags": []
   },
   "outputs": [
    {
     "data": {
      "image/png": "[encoded data removed]",
      "text/plain": [
       "<Figure size 864x576 with 1 Axes>"
      ]
     },
     "metadata": {},
     "output_type": "display_data"
    },
    {
     "data": {
      "text/html": [
       "<div>\n",
       "<style scoped>\n",
       "    .dataframe tbody tr th:only-of-type {\n",
       "        vertical-align: middle;\n",
       "    }\n",
       "\n",
       "    .dataframe tbody tr th {\n",
       "        vertical-align: top;\n",
       "    }\n",
       "\n",
       "    .dataframe thead th {\n",
       "        text-align: right;\n",
       "    }\n",
       "</style>\n",
       "<table border=\"1\" class=\"dataframe\">\n",
       "  <thead>\n",
       "    <tr style=\"text-align: right;\">\n",
       "      <th></th>\n",
       "      <th>Total applications</th>\n",
       "      <th>Number of calls</th>\n",
       "    </tr>\n",
       "  </thead>\n",
       "  <tbody>\n",
       "    <tr>\n",
       "      <th>0</th>\n",
       "      <td>62</td>\n",
       "      <td>1</td>\n",
       "    </tr>\n",
       "  </tbody>\n",
       "</table>\n",
       "</div>"
      ],
      "text/plain": [
       "   Total applications  Number of calls\n",
       "0                  62                1"
      ]
     },
     "execution_count": 18,
     "metadata": {},
     "output_type": "execute_result"
    }
   ],
   "source": [
    "call = non_duplicated['date_call'].notnull().sum()\n",
    "d_call = non_duplicated['result'].value_counts()[1] - call\n",
    "\n",
    "p_call = call*100/d_call\n",
    "p_dcall = 100 - p_call\n",
    "\n",
    "# Creating dataset \n",
    "labels = \"Did call\", \"Didn't call\"\n",
    "  \n",
    "data = [p_call, p_dcall]\n",
    "  \n",
    "# Creating plot \n",
    "fig = plt.figure(figsize =(12, 8)) \n",
    "plt.pie(data, labels = labels, autopct='%1.1f%%', startangle=90) \n",
    "  \n",
    "# show plot \n",
    "plt.show() \n",
    "\n",
    "pd.DataFrame({'Total applications':[non_duplicated['result'].value_counts()[1]], 'Number of calls':[call]}).head()\n"
   ]
  },
  {
   "cell_type": "markdown",
   "metadata": {
    "papermill": {
     "duration": 0.024953,
     "end_time": "2020-09-16T11:37:15.011886",
     "exception": false,
     "start_time": "2020-09-16T11:37:14.986933",
     "status": "completed"
    },
    "tags": []
   },
   "source": [
    "This is all for now. I will be constantly updating this because there is still a lot of interesting information in this data. I will be updating the records too since I'm still looking for a job. "
   ]
  }
 ],
 "metadata": {
  "kernelspec": {
   "display_name": "Python 3",
   "language": "python",
   "name": "python3"
  },
  "language_info": {
   "codemirror_mode": {
    "name": "ipython",
    "version": 3
   },
   "file_extension": ".py",
   "mimetype": "text/x-python",
   "name": "python",
   "nbconvert_exporter": "python",
   "pygments_lexer": "ipython3",
   "version": "3.7.6"
  },
  "papermill": {
   "duration": 8.981983,
   "end_time": "2020-09-16T11:37:16.109334",
   "environment_variables": {},
   "exception": null,
   "input_path": "__notebook__.ipynb",
   "output_path": "__notebook__.ipynb",
   "parameters": {},
   "start_time": "2020-09-16T11:37:07.127351",
   "version": "2.1.0"
  }
 },
 "nbformat": 4,
 "nbformat_minor": 4
}
