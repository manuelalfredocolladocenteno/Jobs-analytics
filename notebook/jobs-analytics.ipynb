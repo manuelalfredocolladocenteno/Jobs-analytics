{
 "cells": [
  {
   "cell_type": "markdown",
   "metadata": {
    "papermill": {
     "duration": 0.021884,
     "end_time": "2020-09-14T15:25:10.070745",
     "exception": false,
     "start_time": "2020-09-14T15:25:10.048861",
     "status": "completed"
    },
    "tags": []
   },
   "source": [
    "# Jobs analytics"
   ]
  },
  {
   "cell_type": "markdown",
   "metadata": {
    "papermill": {
     "duration": 0.020489,
     "end_time": "2020-09-14T15:25:10.112040",
     "exception": false,
     "start_time": "2020-09-14T15:25:10.091551",
     "status": "completed"
    },
    "tags": []
   },
   "source": [
    "EasyApply Bot is a bot that helps you to apply to EasyApply offers on LinkedIn. Here is the project in case you are interested: https://github.com/nicolomantini/LinkedIn-Easy-Apply-Bot\n",
    "\n",
    "Once you run this program every attempt to apply to a job gets recorded in a CSV file. I've been using the bot for a time and now I want to make some analytics in order to learn something new.\n",
    "\n",
    "I set up the bot to look for jobs of data scientist, data engineer, data analyst, business intelligence and python."
   ]
  },
  {
   "cell_type": "code",
   "execution_count": 1,
   "metadata": {
    "_cell_guid": "b1076dfc-b9ad-4769-8c92-a6c4dae69d19",
    "_uuid": "8f2839f25d086af736a60e9eeb907d3b93b6e0e5",
    "execution": {
     "iopub.execute_input": "2020-09-14T15:25:10.162824Z",
     "iopub.status.busy": "2020-09-14T15:25:10.162010Z",
     "iopub.status.idle": "2020-09-14T15:25:10.170378Z",
     "shell.execute_reply": "2020-09-14T15:25:10.169583Z"
    },
    "papermill": {
     "duration": 0.037437,
     "end_time": "2020-09-14T15:25:10.170523",
     "exception": false,
     "start_time": "2020-09-14T15:25:10.133086",
     "status": "completed"
    },
    "tags": []
   },
   "outputs": [],
   "source": [
    "# This Python 3 environment comes with many helpful analytics libraries installed\n",
    "# It is defined by the kaggle/python Docker image: https://github.com/kaggle/docker-python\n",
    "# For example, here's several helpful packages to load\n",
    "\n",
    "import numpy as np # linear algebra\n",
    "import pandas as pd # data processing, CSV file I/O (e.g. pd.read_csv)\n",
    "\n",
    "# Input data files are available in the read-only \"../input/\" directory\n",
    "# For example, running this (by clicking run or pressing Shift+Enter) will list all files under the input directory\n",
    "\n",
    "import os\n",
    "for dirname, _, filenames in os.walk('/kaggle/input'):\n",
    "    for filename in filenames:\n",
    "        print(os.path.join(dirname, filename))\n",
    "\n",
    "# You can write up to 5GB to the current directory (/kaggle/working/) that gets preserved as output when you create a version using \"Save & Run All\" \n",
    "# You can also write temporary files to /kaggle/temp/, but they won't be saved outside of the current session"
   ]
  },
  {
   "cell_type": "code",
   "execution_count": 2,
   "metadata": {
    "execution": {
     "iopub.execute_input": "2020-09-14T15:25:10.222169Z",
     "iopub.status.busy": "2020-09-14T15:25:10.221284Z",
     "iopub.status.idle": "2020-09-14T15:25:11.256285Z",
     "shell.execute_reply": "2020-09-14T15:25:11.255478Z"
    },
    "papermill": {
     "duration": 1.063507,
     "end_time": "2020-09-14T15:25:11.256458",
     "exception": false,
     "start_time": "2020-09-14T15:25:10.192951",
     "status": "completed"
    },
    "tags": []
   },
   "outputs": [],
   "source": [
    "pd.plotting.register_matplotlib_converters()\n",
    "import matplotlib.pyplot as plt\n",
    "%matplotlib inline\n",
    "import seaborn as sns"
   ]
  },
  {
   "cell_type": "code",
   "execution_count": 4,
   "metadata": {
    "_cell_guid": "79c7e3d0-c299-4dcb-8224-4455121ee9b0",
    "_uuid": "d629ff2d2480ee46fbb7e2d37f6b5fab8052498a",
    "execution": {
     "iopub.execute_input": "2020-09-14T15:25:11.308778Z",
     "iopub.status.busy": "2020-09-14T15:25:11.307998Z",
     "iopub.status.idle": "2020-09-14T15:25:11.380963Z",
     "shell.execute_reply": "2020-09-14T15:25:11.380378Z"
    },
    "papermill": {
     "duration": 0.100712,
     "end_time": "2020-09-14T15:25:11.381088",
     "exception": false,
     "start_time": "2020-09-14T15:25:11.280376",
     "status": "completed"
    },
    "tags": []
   },
   "outputs": [
    {
     "data": {
      "text/html": [
       "<div>\n",
       "<style scoped>\n",
       "    .dataframe tbody tr th:only-of-type {\n",
       "        vertical-align: middle;\n",
       "    }\n",
       "\n",
       "    .dataframe tbody tr th {\n",
       "        vertical-align: top;\n",
       "    }\n",
       "\n",
       "    .dataframe thead th {\n",
       "        text-align: right;\n",
       "    }\n",
       "</style>\n",
       "<table border=\"1\" class=\"dataframe\">\n",
       "  <thead>\n",
       "    <tr style=\"text-align: right;\">\n",
       "      <th></th>\n",
       "      <th>timestamp</th>\n",
       "      <th>jobID</th>\n",
       "      <th>job</th>\n",
       "      <th>company</th>\n",
       "      <th>attempted</th>\n",
       "      <th>result</th>\n",
       "    </tr>\n",
       "  </thead>\n",
       "  <tbody>\n",
       "    <tr>\n",
       "      <th>0</th>\n",
       "      <td>2020-09-09 18:01:14.040289</td>\n",
       "      <td>1998149634</td>\n",
       "      <td>Data Analytics / Data Scientist</td>\n",
       "      <td>Evolutio Empowering the cloud</td>\n",
       "      <td>True</td>\n",
       "      <td>True</td>\n",
       "    </tr>\n",
       "    <tr>\n",
       "      <th>1</th>\n",
       "      <td>2020-09-09 18:01:39.009284</td>\n",
       "      <td>2011446983</td>\n",
       "      <td>Data Scientist</td>\n",
       "      <td>Experis Selecciï¿½n</td>\n",
       "      <td>True</td>\n",
       "      <td>True</td>\n",
       "    </tr>\n",
       "    <tr>\n",
       "      <th>2</th>\n",
       "      <td>2020-09-09 18:02:03.471147</td>\n",
       "      <td>2011445130</td>\n",
       "      <td>Data Engineer</td>\n",
       "      <td>SoYou_Bankia</td>\n",
       "      <td>True</td>\n",
       "      <td>True</td>\n",
       "    </tr>\n",
       "    <tr>\n",
       "      <th>3</th>\n",
       "      <td>2020-09-09 18:02:18.523716</td>\n",
       "      <td>1990255850</td>\n",
       "      <td>Data Scientist Junior</td>\n",
       "      <td>Strategy Big Data</td>\n",
       "      <td>False</td>\n",
       "      <td>False</td>\n",
       "    </tr>\n",
       "    <tr>\n",
       "      <th>4</th>\n",
       "      <td>2020-09-09 18:02:44.209952</td>\n",
       "      <td>2011254160</td>\n",
       "      <td>Data Scientist</td>\n",
       "      <td>Daimler Group Services Madrid</td>\n",
       "      <td>True</td>\n",
       "      <td>True</td>\n",
       "    </tr>\n",
       "  </tbody>\n",
       "</table>\n",
       "</div>"
      ],
      "text/plain": [
       "                    timestamp       jobID                              job  \\\n",
       "0  2020-09-09 18:01:14.040289  1998149634  Data Analytics / Data Scientist   \n",
       "1  2020-09-09 18:01:39.009284  2011446983                   Data Scientist   \n",
       "2  2020-09-09 18:02:03.471147  2011445130                    Data Engineer   \n",
       "3  2020-09-09 18:02:18.523716  1990255850            Data Scientist Junior   \n",
       "4  2020-09-09 18:02:44.209952  2011254160                   Data Scientist   \n",
       "\n",
       "                         company  attempted  result  \n",
       "0  Evolutio Empowering the cloud       True    True  \n",
       "1            Experis Selecciï¿½n       True    True  \n",
       "2                   SoYou_Bankia       True    True  \n",
       "3              Strategy Big Data      False   False  \n",
       "4  Daimler Group Services Madrid       True    True  "
      ]
     },
     "execution_count": 4,
     "metadata": {},
     "output_type": "execute_result"
    }
   ],
   "source": [
    "my_filepath = \"../input/jobs-applied-in-linkedin-with-easyapplybot/jobs.csv\"\n",
    "\n",
    "my_data = pd.read_csv(my_filepath,encoding='latin1')\n",
    "\n",
    "my_data.head()"
   ]
  },
  {
   "cell_type": "markdown",
   "metadata": {
    "papermill": {
     "duration": 0.021945,
     "end_time": "2020-09-14T15:25:11.425449",
     "exception": false,
     "start_time": "2020-09-14T15:25:11.403504",
     "status": "completed"
    },
    "tags": []
   },
   "source": [
    "Since there are some offers that will be constantly visited I will drop all the offers already seen."
   ]
  },
  {
   "cell_type": "code",
   "execution_count": 4,
   "metadata": {
    "execution": {
     "iopub.execute_input": "2020-09-14T15:25:11.489614Z",
     "iopub.status.busy": "2020-09-14T15:25:11.488571Z",
     "iopub.status.idle": "2020-09-14T15:25:11.492998Z",
     "shell.execute_reply": "2020-09-14T15:25:11.492419Z"
    },
    "papermill": {
     "duration": 0.045066,
     "end_time": "2020-09-14T15:25:11.493128",
     "exception": false,
     "start_time": "2020-09-14T15:25:11.448062",
     "status": "completed"
    },
    "tags": []
   },
   "outputs": [
    {
     "name": "stdout",
     "output_type": "stream",
     "text": [
      "Jobs found:  74\n",
      "Successfully sent applications:  51\n",
      "Failed applications:  23\n"
     ]
    }
   ],
   "source": [
    "non_duplicated = my_data.drop_duplicates(['jobID'])\n",
    "\n",
    "print(\"Jobs found: \", len(non_duplicated['result']))\n",
    "print(\"Successfully sent applications: \", non_duplicated['result'].value_counts()[1])\n",
    "print(\"Failed applications: \", non_duplicated['result'].value_counts()[0])"
   ]
  },
  {
   "cell_type": "markdown",
   "metadata": {
    "papermill": {
     "duration": 0.022335,
     "end_time": "2020-09-14T15:25:11.538785",
     "exception": false,
     "start_time": "2020-09-14T15:25:11.516450",
     "status": "completed"
    },
    "tags": []
   },
   "source": [
    "Now we create two new columns from timestamp column."
   ]
  },
  {
   "cell_type": "code",
   "execution_count": 5,
   "metadata": {
    "execution": {
     "iopub.execute_input": "2020-09-14T15:25:11.593156Z",
     "iopub.status.busy": "2020-09-14T15:25:11.592016Z",
     "iopub.status.idle": "2020-09-14T15:25:11.611656Z",
     "shell.execute_reply": "2020-09-14T15:25:11.612487Z"
    },
    "papermill": {
     "duration": 0.050756,
     "end_time": "2020-09-14T15:25:11.612692",
     "exception": false,
     "start_time": "2020-09-14T15:25:11.561936",
     "status": "completed"
    },
    "tags": []
   },
   "outputs": [
    {
     "name": "stderr",
     "output_type": "stream",
     "text": [
      "/opt/conda/lib/python3.7/site-packages/ipykernel_launcher.py:2: SettingWithCopyWarning: \n",
      "A value is trying to be set on a copy of a slice from a DataFrame.\n",
      "Try using .loc[row_indexer,col_indexer] = value instead\n",
      "\n",
      "See the caveats in the documentation: https://pandas.pydata.org/pandas-docs/stable/user_guide/indexing.html#returning-a-view-versus-a-copy\n",
      "  \n",
      "/opt/conda/lib/python3.7/site-packages/ipykernel_launcher.py:3: SettingWithCopyWarning: \n",
      "A value is trying to be set on a copy of a slice from a DataFrame.\n",
      "Try using .loc[row_indexer,col_indexer] = value instead\n",
      "\n",
      "See the caveats in the documentation: https://pandas.pydata.org/pandas-docs/stable/user_guide/indexing.html#returning-a-view-versus-a-copy\n",
      "  This is separate from the ipykernel package so we can avoid doing imports until\n"
     ]
    }
   ],
   "source": [
    "import datetime\n",
    "non_duplicated['date'] = non_duplicated.apply(lambda x: datetime.datetime.strptime(x['timestamp'], '%Y-%m-%d %H:%M:%S.%f').date(), axis = 1)\n",
    "non_duplicated['time'] = non_duplicated.apply(lambda x: datetime.datetime.strptime(x['timestamp'], '%Y-%m-%d %H:%M:%S.%f').time(), axis = 1)"
   ]
  },
  {
   "cell_type": "markdown",
   "metadata": {
    "papermill": {
     "duration": 0.023331,
     "end_time": "2020-09-14T15:25:11.660864",
     "exception": false,
     "start_time": "2020-09-14T15:25:11.637533",
     "status": "completed"
    },
    "tags": []
   },
   "source": [
    "Now we can drop timestamp column since it is already useless."
   ]
  },
  {
   "cell_type": "code",
   "execution_count": 6,
   "metadata": {
    "execution": {
     "iopub.execute_input": "2020-09-14T15:25:11.718348Z",
     "iopub.status.busy": "2020-09-14T15:25:11.717273Z",
     "iopub.status.idle": "2020-09-14T15:25:11.720381Z",
     "shell.execute_reply": "2020-09-14T15:25:11.720931Z"
    },
    "papermill": {
     "duration": 0.035498,
     "end_time": "2020-09-14T15:25:11.721095",
     "exception": false,
     "start_time": "2020-09-14T15:25:11.685597",
     "status": "completed"
    },
    "tags": []
   },
   "outputs": [],
   "source": [
    "non_duplicated = non_duplicated.drop('timestamp', axis=1)"
   ]
  },
  {
   "cell_type": "markdown",
   "metadata": {
    "papermill": {
     "duration": 0.023268,
     "end_time": "2020-09-14T15:25:11.768206",
     "exception": false,
     "start_time": "2020-09-14T15:25:11.744938",
     "status": "completed"
    },
    "tags": []
   },
   "source": [
    "We can create some other columns related to date. They may be useful in the future."
   ]
  },
  {
   "cell_type": "code",
   "execution_count": 7,
   "metadata": {
    "execution": {
     "iopub.execute_input": "2020-09-14T15:25:11.832988Z",
     "iopub.status.busy": "2020-09-14T15:25:11.832121Z",
     "iopub.status.idle": "2020-09-14T15:25:11.835965Z",
     "shell.execute_reply": "2020-09-14T15:25:11.835293Z"
    },
    "papermill": {
     "duration": 0.044328,
     "end_time": "2020-09-14T15:25:11.836092",
     "exception": false,
     "start_time": "2020-09-14T15:25:11.791764",
     "status": "completed"
    },
    "tags": []
   },
   "outputs": [],
   "source": [
    "non_duplicated['day'] = non_duplicated.apply(lambda x: x['date'].day, axis = 1)\n",
    "non_duplicated['weekday'] = non_duplicated.apply(lambda x: x['date'].weekday(), axis = 1)\n",
    "non_duplicated['month'] = non_duplicated.apply(lambda x: x['date'].month, axis = 1)"
   ]
  },
  {
   "cell_type": "markdown",
   "metadata": {
    "papermill": {
     "duration": 0.023349,
     "end_time": "2020-09-14T15:25:11.884132",
     "exception": false,
     "start_time": "2020-09-14T15:25:11.860783",
     "status": "completed"
    },
    "tags": []
   },
   "source": [
    "I decided to transform 'attempted' and 'result' fields to be able to plot some graphs."
   ]
  },
  {
   "cell_type": "code",
   "execution_count": 8,
   "metadata": {
    "execution": {
     "iopub.execute_input": "2020-09-14T15:25:11.956149Z",
     "iopub.status.busy": "2020-09-14T15:25:11.955328Z",
     "iopub.status.idle": "2020-09-14T15:25:11.973006Z",
     "shell.execute_reply": "2020-09-14T15:25:11.972346Z"
    },
    "papermill": {
     "duration": 0.065175,
     "end_time": "2020-09-14T15:25:11.973145",
     "exception": false,
     "start_time": "2020-09-14T15:25:11.907970",
     "status": "completed"
    },
    "tags": []
   },
   "outputs": [],
   "source": [
    "def convert_result(row):\n",
    "    if row.result == True:\n",
    "        row.result = 1\n",
    "    else:\n",
    "        row.result = 0\n",
    "    return row\n",
    "\n",
    "def convert_att(row):\n",
    "    if row.attempted == True:\n",
    "        row.attempted = 1\n",
    "    else:\n",
    "        row.attempted = 0\n",
    "    return row\n",
    "\n",
    "non_duplicated = non_duplicated.apply(convert_result, axis = 1)\n",
    "non_duplicated = non_duplicated.apply(convert_att, axis = 1)"
   ]
  },
  {
   "cell_type": "code",
   "execution_count": 9,
   "metadata": {
    "execution": {
     "iopub.execute_input": "2020-09-14T15:25:12.037791Z",
     "iopub.status.busy": "2020-09-14T15:25:12.036869Z",
     "iopub.status.idle": "2020-09-14T15:25:12.041321Z",
     "shell.execute_reply": "2020-09-14T15:25:12.040679Z"
    },
    "papermill": {
     "duration": 0.044341,
     "end_time": "2020-09-14T15:25:12.041464",
     "exception": false,
     "start_time": "2020-09-14T15:25:11.997123",
     "status": "completed"
    },
    "tags": []
   },
   "outputs": [
    {
     "data": {
      "text/html": [
       "<div>\n",
       "<style scoped>\n",
       "    .dataframe tbody tr th:only-of-type {\n",
       "        vertical-align: middle;\n",
       "    }\n",
       "\n",
       "    .dataframe tbody tr th {\n",
       "        vertical-align: top;\n",
       "    }\n",
       "\n",
       "    .dataframe thead th {\n",
       "        text-align: right;\n",
       "    }\n",
       "</style>\n",
       "<table border=\"1\" class=\"dataframe\">\n",
       "  <thead>\n",
       "    <tr style=\"text-align: right;\">\n",
       "      <th></th>\n",
       "      <th>jobID</th>\n",
       "      <th>job</th>\n",
       "      <th>company</th>\n",
       "      <th>attempted</th>\n",
       "      <th>result</th>\n",
       "      <th>date</th>\n",
       "      <th>time</th>\n",
       "      <th>day</th>\n",
       "      <th>weekday</th>\n",
       "      <th>month</th>\n",
       "    </tr>\n",
       "  </thead>\n",
       "  <tbody>\n",
       "    <tr>\n",
       "      <th>0</th>\n",
       "      <td>1998149634</td>\n",
       "      <td>Data Analytics / Data Scientist</td>\n",
       "      <td>Evolutio Empowering the cloud</td>\n",
       "      <td>1</td>\n",
       "      <td>1</td>\n",
       "      <td>2020-09-09</td>\n",
       "      <td>18:01:14.040289</td>\n",
       "      <td>9</td>\n",
       "      <td>2</td>\n",
       "      <td>9</td>\n",
       "    </tr>\n",
       "    <tr>\n",
       "      <th>1</th>\n",
       "      <td>2011446983</td>\n",
       "      <td>Data Scientist</td>\n",
       "      <td>Experis Selecciï¿½n</td>\n",
       "      <td>1</td>\n",
       "      <td>1</td>\n",
       "      <td>2020-09-09</td>\n",
       "      <td>18:01:39.009284</td>\n",
       "      <td>9</td>\n",
       "      <td>2</td>\n",
       "      <td>9</td>\n",
       "    </tr>\n",
       "    <tr>\n",
       "      <th>2</th>\n",
       "      <td>2011445130</td>\n",
       "      <td>Data Engineer</td>\n",
       "      <td>SoYou_Bankia</td>\n",
       "      <td>1</td>\n",
       "      <td>1</td>\n",
       "      <td>2020-09-09</td>\n",
       "      <td>18:02:03.471147</td>\n",
       "      <td>9</td>\n",
       "      <td>2</td>\n",
       "      <td>9</td>\n",
       "    </tr>\n",
       "    <tr>\n",
       "      <th>3</th>\n",
       "      <td>1990255850</td>\n",
       "      <td>Data Scientist Junior</td>\n",
       "      <td>Strategy Big Data</td>\n",
       "      <td>0</td>\n",
       "      <td>0</td>\n",
       "      <td>2020-09-09</td>\n",
       "      <td>18:02:18.523716</td>\n",
       "      <td>9</td>\n",
       "      <td>2</td>\n",
       "      <td>9</td>\n",
       "    </tr>\n",
       "    <tr>\n",
       "      <th>4</th>\n",
       "      <td>2011254160</td>\n",
       "      <td>Data Scientist</td>\n",
       "      <td>Daimler Group Services Madrid</td>\n",
       "      <td>1</td>\n",
       "      <td>1</td>\n",
       "      <td>2020-09-09</td>\n",
       "      <td>18:02:44.209952</td>\n",
       "      <td>9</td>\n",
       "      <td>2</td>\n",
       "      <td>9</td>\n",
       "    </tr>\n",
       "  </tbody>\n",
       "</table>\n",
       "</div>"
      ],
      "text/plain": [
       "        jobID                              job                        company  \\\n",
       "0  1998149634  Data Analytics / Data Scientist  Evolutio Empowering the cloud   \n",
       "1  2011446983                   Data Scientist            Experis Selecciï¿½n   \n",
       "2  2011445130                    Data Engineer                   SoYou_Bankia   \n",
       "3  1990255850            Data Scientist Junior              Strategy Big Data   \n",
       "4  2011254160                   Data Scientist  Daimler Group Services Madrid   \n",
       "\n",
       "   attempted  result        date             time  day  weekday  month  \n",
       "0          1       1  2020-09-09  18:01:14.040289    9        2      9  \n",
       "1          1       1  2020-09-09  18:01:39.009284    9        2      9  \n",
       "2          1       1  2020-09-09  18:02:03.471147    9        2      9  \n",
       "3          0       0  2020-09-09  18:02:18.523716    9        2      9  \n",
       "4          1       1  2020-09-09  18:02:44.209952    9        2      9  "
      ]
     },
     "execution_count": 9,
     "metadata": {},
     "output_type": "execute_result"
    }
   ],
   "source": [
    "non_duplicated.head()"
   ]
  },
  {
   "cell_type": "markdown",
   "metadata": {
    "papermill": {
     "duration": 0.024529,
     "end_time": "2020-09-14T15:25:12.090877",
     "exception": false,
     "start_time": "2020-09-14T15:25:12.066348",
     "status": "completed"
    },
    "tags": []
   },
   "source": [
    "Now I group the data per day, counting every attempt and every successful submitting."
   ]
  },
  {
   "cell_type": "code",
   "execution_count": 10,
   "metadata": {
    "execution": {
     "iopub.execute_input": "2020-09-14T15:25:12.157313Z",
     "iopub.status.busy": "2020-09-14T15:25:12.149571Z",
     "iopub.status.idle": "2020-09-14T15:25:12.162549Z",
     "shell.execute_reply": "2020-09-14T15:25:12.161795Z"
    },
    "papermill": {
     "duration": 0.046508,
     "end_time": "2020-09-14T15:25:12.162692",
     "exception": false,
     "start_time": "2020-09-14T15:25:12.116184",
     "status": "completed"
    },
    "tags": []
   },
   "outputs": [
    {
     "data": {
      "text/html": [
       "<div>\n",
       "<style scoped>\n",
       "    .dataframe tbody tr th:only-of-type {\n",
       "        vertical-align: middle;\n",
       "    }\n",
       "\n",
       "    .dataframe tbody tr th {\n",
       "        vertical-align: top;\n",
       "    }\n",
       "\n",
       "    .dataframe thead th {\n",
       "        text-align: right;\n",
       "    }\n",
       "</style>\n",
       "<table border=\"1\" class=\"dataframe\">\n",
       "  <thead>\n",
       "    <tr style=\"text-align: right;\">\n",
       "      <th></th>\n",
       "      <th>attempted</th>\n",
       "      <th>result</th>\n",
       "    </tr>\n",
       "    <tr>\n",
       "      <th>day</th>\n",
       "      <th></th>\n",
       "      <th></th>\n",
       "    </tr>\n",
       "  </thead>\n",
       "  <tbody>\n",
       "    <tr>\n",
       "      <th>9</th>\n",
       "      <td>16</td>\n",
       "      <td>14</td>\n",
       "    </tr>\n",
       "    <tr>\n",
       "      <th>10</th>\n",
       "      <td>15</td>\n",
       "      <td>10</td>\n",
       "    </tr>\n",
       "    <tr>\n",
       "      <th>11</th>\n",
       "      <td>13</td>\n",
       "      <td>12</td>\n",
       "    </tr>\n",
       "    <tr>\n",
       "      <th>12</th>\n",
       "      <td>6</td>\n",
       "      <td>5</td>\n",
       "    </tr>\n",
       "    <tr>\n",
       "      <th>13</th>\n",
       "      <td>7</td>\n",
       "      <td>4</td>\n",
       "    </tr>\n",
       "  </tbody>\n",
       "</table>\n",
       "</div>"
      ],
      "text/plain": [
       "     attempted  result\n",
       "day                   \n",
       "9           16      14\n",
       "10          15      10\n",
       "11          13      12\n",
       "12           6       5\n",
       "13           7       4"
      ]
     },
     "execution_count": 10,
     "metadata": {},
     "output_type": "execute_result"
    }
   ],
   "source": [
    "group = non_duplicated[['day','attempted', 'result']].groupby(['day']).sum()\n",
    "\n",
    "group.head()"
   ]
  },
  {
   "cell_type": "code",
   "execution_count": 11,
   "metadata": {
    "execution": {
     "iopub.execute_input": "2020-09-14T15:25:12.220448Z",
     "iopub.status.busy": "2020-09-14T15:25:12.219662Z",
     "iopub.status.idle": "2020-09-14T15:25:12.467932Z",
     "shell.execute_reply": "2020-09-14T15:25:12.467175Z"
    },
    "papermill": {
     "duration": 0.279722,
     "end_time": "2020-09-14T15:25:12.468056",
     "exception": false,
     "start_time": "2020-09-14T15:25:12.188334",
     "status": "completed"
    },
    "tags": []
   },
   "outputs": [
    {
     "data": {
      "text/plain": [
       "<matplotlib.axes._subplots.AxesSubplot at 0x7f0be2a10950>"
      ]
     },
     "execution_count": 11,
     "metadata": {},
     "output_type": "execute_result"
    },
    {
     "data": {
      "image/png": "[encoded data removed]",
      "text/plain": [
       "<Figure size 1224x432 with 1 Axes>"
      ]
     },
     "metadata": {
      "needs_background": "light"
     },
     "output_type": "display_data"
    }
   ],
   "source": [
    "plt.figure(figsize=(17,6))\n",
    "plt.title(\"Attempts per day\")\n",
    "\n",
    "sns.barplot(x=group.index, y=group['attempted'])"
   ]
  },
  {
   "cell_type": "code",
   "execution_count": 12,
   "metadata": {
    "execution": {
     "iopub.execute_input": "2020-09-14T15:25:12.536979Z",
     "iopub.status.busy": "2020-09-14T15:25:12.534340Z",
     "iopub.status.idle": "2020-09-14T15:25:12.721231Z",
     "shell.execute_reply": "2020-09-14T15:25:12.720480Z"
    },
    "papermill": {
     "duration": 0.226176,
     "end_time": "2020-09-14T15:25:12.721372",
     "exception": false,
     "start_time": "2020-09-14T15:25:12.495196",
     "status": "completed"
    },
    "tags": []
   },
   "outputs": [
    {
     "data": {
      "text/plain": [
       "<matplotlib.axes._subplots.AxesSubplot at 0x7f0be21cf650>"
      ]
     },
     "execution_count": 12,
     "metadata": {},
     "output_type": "execute_result"
    },
    {
     "data": {
      "image/png": "[encoded data removed]",
      "text/plain": [
       "<Figure size 1224x432 with 1 Axes>"
      ]
     },
     "metadata": {
      "needs_background": "light"
     },
     "output_type": "display_data"
    }
   ],
   "source": [
    "plt.figure(figsize=(17,6))\n",
    "plt.title(\"Submitted applications per day\")\n",
    "\n",
    "sns.barplot(x=group.index, y=group['result'])"
   ]
  },
  {
   "cell_type": "code",
   "execution_count": 13,
   "metadata": {
    "execution": {
     "iopub.execute_input": "2020-09-14T15:25:12.794871Z",
     "iopub.status.busy": "2020-09-14T15:25:12.789641Z",
     "iopub.status.idle": "2020-09-14T15:25:12.799236Z",
     "shell.execute_reply": "2020-09-14T15:25:12.799784Z"
    },
    "papermill": {
     "duration": 0.048861,
     "end_time": "2020-09-14T15:25:12.799954",
     "exception": false,
     "start_time": "2020-09-14T15:25:12.751093",
     "status": "completed"
    },
    "tags": []
   },
   "outputs": [
    {
     "data": {
      "text/html": [
       "<div>\n",
       "<style scoped>\n",
       "    .dataframe tbody tr th:only-of-type {\n",
       "        vertical-align: middle;\n",
       "    }\n",
       "\n",
       "    .dataframe tbody tr th {\n",
       "        vertical-align: top;\n",
       "    }\n",
       "\n",
       "    .dataframe thead th {\n",
       "        text-align: right;\n",
       "    }\n",
       "</style>\n",
       "<table border=\"1\" class=\"dataframe\">\n",
       "  <thead>\n",
       "    <tr style=\"text-align: right;\">\n",
       "      <th></th>\n",
       "      <th>attempted</th>\n",
       "      <th>result</th>\n",
       "    </tr>\n",
       "    <tr>\n",
       "      <th>weekday</th>\n",
       "      <th></th>\n",
       "      <th></th>\n",
       "    </tr>\n",
       "  </thead>\n",
       "  <tbody>\n",
       "    <tr>\n",
       "      <th>0</th>\n",
       "      <td>10</td>\n",
       "      <td>6</td>\n",
       "    </tr>\n",
       "    <tr>\n",
       "      <th>2</th>\n",
       "      <td>16</td>\n",
       "      <td>14</td>\n",
       "    </tr>\n",
       "    <tr>\n",
       "      <th>3</th>\n",
       "      <td>15</td>\n",
       "      <td>10</td>\n",
       "    </tr>\n",
       "    <tr>\n",
       "      <th>4</th>\n",
       "      <td>13</td>\n",
       "      <td>12</td>\n",
       "    </tr>\n",
       "    <tr>\n",
       "      <th>5</th>\n",
       "      <td>6</td>\n",
       "      <td>5</td>\n",
       "    </tr>\n",
       "  </tbody>\n",
       "</table>\n",
       "</div>"
      ],
      "text/plain": [
       "         attempted  result\n",
       "weekday                   \n",
       "0               10       6\n",
       "2               16      14\n",
       "3               15      10\n",
       "4               13      12\n",
       "5                6       5"
      ]
     },
     "execution_count": 13,
     "metadata": {},
     "output_type": "execute_result"
    }
   ],
   "source": [
    "group2 = non_duplicated[['weekday','attempted', 'result']].groupby(['weekday']).sum()\n",
    "\n",
    "group2.head()"
   ]
  },
  {
   "cell_type": "code",
   "execution_count": 14,
   "metadata": {
    "execution": {
     "iopub.execute_input": "2020-09-14T15:25:12.864759Z",
     "iopub.status.busy": "2020-09-14T15:25:12.863952Z",
     "iopub.status.idle": "2020-09-14T15:25:13.057492Z",
     "shell.execute_reply": "2020-09-14T15:25:13.056852Z"
    },
    "papermill": {
     "duration": 0.228665,
     "end_time": "2020-09-14T15:25:13.057615",
     "exception": false,
     "start_time": "2020-09-14T15:25:12.828950",
     "status": "completed"
    },
    "tags": []
   },
   "outputs": [
    {
     "data": {
      "text/plain": [
       "<matplotlib.axes._subplots.AxesSubplot at 0x7f0be23a7bd0>"
      ]
     },
     "execution_count": 14,
     "metadata": {},
     "output_type": "execute_result"
    },
    {
     "data": {
      "image/png": "[encoded data removed]",
      "text/plain": [
       "<Figure size 1224x432 with 1 Axes>"
      ]
     },
     "metadata": {
      "needs_background": "light"
     },
     "output_type": "display_data"
    }
   ],
   "source": [
    "plt.figure(figsize=(17,6))\n",
    "plt.title(\"Attempts per weekday\")\n",
    "\n",
    "sns.barplot(x=group2.index, y=group2['attempted'])"
   ]
  },
  {
   "cell_type": "code",
   "execution_count": 15,
   "metadata": {
    "execution": {
     "iopub.execute_input": "2020-09-14T15:25:13.138542Z",
     "iopub.status.busy": "2020-09-14T15:25:13.132203Z",
     "iopub.status.idle": "2020-09-14T15:25:13.320868Z",
     "shell.execute_reply": "2020-09-14T15:25:13.321592Z"
    },
    "papermill": {
     "duration": 0.233121,
     "end_time": "2020-09-14T15:25:13.321752",
     "exception": false,
     "start_time": "2020-09-14T15:25:13.088631",
     "status": "completed"
    },
    "tags": []
   },
   "outputs": [
    {
     "data": {
      "text/plain": [
       "<matplotlib.axes._subplots.AxesSubplot at 0x7f0be2324390>"
      ]
     },
     "execution_count": 15,
     "metadata": {},
     "output_type": "execute_result"
    },
    {
     "data": {
      "image/png": "[encoded data removed]",
      "text/plain": [
       "<Figure size 1224x432 with 1 Axes>"
      ]
     },
     "metadata": {
      "needs_background": "light"
     },
     "output_type": "display_data"
    }
   ],
   "source": [
    "plt.figure(figsize=(17,6))\n",
    "plt.title(\"Submitted applications per weekday\")\n",
    "\n",
    "sns.barplot(x=group2.index, y=group2['result'])"
   ]
  },
  {
   "cell_type": "code",
   "execution_count": 16,
   "metadata": {
    "execution": {
     "iopub.execute_input": "2020-09-14T15:25:13.394315Z",
     "iopub.status.busy": "2020-09-14T15:25:13.393484Z",
     "iopub.status.idle": "2020-09-14T15:25:13.671890Z",
     "shell.execute_reply": "2020-09-14T15:25:13.671218Z"
    },
    "papermill": {
     "duration": 0.317421,
     "end_time": "2020-09-14T15:25:13.672016",
     "exception": false,
     "start_time": "2020-09-14T15:25:13.354595",
     "status": "completed"
    },
    "tags": []
   },
   "outputs": [
    {
     "data": {
      "text/plain": [
       "<matplotlib.axes._subplots.AxesSubplot at 0x7f0be25ffa90>"
      ]
     },
     "execution_count": 16,
     "metadata": {},
     "output_type": "execute_result"
    },
    {
     "data": {
      "image/png": "[encoded data removed]",
      "text/plain": [
       "<Figure size 1224x432 with 1 Axes>"
      ]
     },
     "metadata": {
      "needs_background": "light"
     },
     "output_type": "display_data"
    }
   ],
   "source": [
    "failed = group2['attempted'] - group2['result']\n",
    "\n",
    "plt.figure(figsize=(17,6))\n",
    "\n",
    "plt.title(\"Failed attemps per weekday\")\n",
    "\n",
    "sns.barplot(x=failed.index, y=failed)"
   ]
  },
  {
   "cell_type": "markdown",
   "metadata": {
    "papermill": {
     "duration": 0.033517,
     "end_time": "2020-09-14T15:25:13.739242",
     "exception": false,
     "start_time": "2020-09-14T15:25:13.705725",
     "status": "completed"
    },
    "tags": []
   },
   "source": [
    "It's too soon to make some conclusions since there is still too little data in the dataset. For now, it seems that there are more available jobs in the middle of the week (Tuesday, Wednesday, and Thursday), but we can't be sure if it is something general or just a coincidence. We'll be watching."
   ]
  },
  {
   "cell_type": "markdown",
   "metadata": {
    "papermill": {
     "duration": 0.033595,
     "end_time": "2020-09-14T15:25:13.806755",
     "exception": false,
     "start_time": "2020-09-14T15:25:13.773160",
     "status": "completed"
    },
    "tags": []
   },
   "source": [
    "I create another column with the dates when they called me (if so, 'nan' otherwise).\n",
    "\n",
    "I can take the jobID from the url, so I look for the id of the row in order to change the date_call from 'nan' to the corresponding date of the call."
   ]
  },
  {
   "cell_type": "code",
   "execution_count": 17,
   "metadata": {
    "execution": {
     "iopub.execute_input": "2020-09-14T15:25:13.888993Z",
     "iopub.status.busy": "2020-09-14T15:25:13.887159Z",
     "iopub.status.idle": "2020-09-14T15:25:13.893912Z",
     "shell.execute_reply": "2020-09-14T15:25:13.893016Z"
    },
    "papermill": {
     "duration": 0.053597,
     "end_time": "2020-09-14T15:25:13.894084",
     "exception": false,
     "start_time": "2020-09-14T15:25:13.840487",
     "status": "completed"
    },
    "tags": []
   },
   "outputs": [
    {
     "name": "stdout",
     "output_type": "stream",
     "text": [
      "92   NaN\n",
      "Name: date_call, dtype: float64\n"
     ]
    }
   ],
   "source": [
    "#2019339369\n",
    "non_duplicated['date_call'] = np.nan\n",
    "\n",
    "print(non_duplicated.query('jobID == 2019339369')['date_call']) # id is equal to 92\n",
    "non_duplicated.loc[92,'date_call'] = datetime.date(2020, 9, 14)"
   ]
  },
  {
   "cell_type": "markdown",
   "metadata": {
    "papermill": {
     "duration": 0.033979,
     "end_time": "2020-09-14T15:25:13.963107",
     "exception": false,
     "start_time": "2020-09-14T15:25:13.929128",
     "status": "completed"
    },
    "tags": []
   },
   "source": [
    "Now we can see how many job applications have a response."
   ]
  },
  {
   "cell_type": "code",
   "execution_count": 18,
   "metadata": {
    "execution": {
     "iopub.execute_input": "2020-09-14T15:25:14.045707Z",
     "iopub.status.busy": "2020-09-14T15:25:14.044574Z",
     "iopub.status.idle": "2020-09-14T15:25:14.118731Z",
     "shell.execute_reply": "2020-09-14T15:25:14.118108Z"
    },
    "papermill": {
     "duration": 0.121499,
     "end_time": "2020-09-14T15:25:14.118891",
     "exception": false,
     "start_time": "2020-09-14T15:25:13.997392",
     "status": "completed"
    },
    "tags": []
   },
   "outputs": [
    {
     "data": {
      "image/png": "[encoded data removed]",
      "text/plain": [
       "<Figure size 864x576 with 1 Axes>"
      ]
     },
     "metadata": {},
     "output_type": "display_data"
    },
    {
     "data": {
      "text/html": [
       "<div>\n",
       "<style scoped>\n",
       "    .dataframe tbody tr th:only-of-type {\n",
       "        vertical-align: middle;\n",
       "    }\n",
       "\n",
       "    .dataframe tbody tr th {\n",
       "        vertical-align: top;\n",
       "    }\n",
       "\n",
       "    .dataframe thead th {\n",
       "        text-align: right;\n",
       "    }\n",
       "</style>\n",
       "<table border=\"1\" class=\"dataframe\">\n",
       "  <thead>\n",
       "    <tr style=\"text-align: right;\">\n",
       "      <th></th>\n",
       "      <th>Total applications</th>\n",
       "      <th>Number of calls</th>\n",
       "    </tr>\n",
       "  </thead>\n",
       "  <tbody>\n",
       "    <tr>\n",
       "      <th>0</th>\n",
       "      <td>51</td>\n",
       "      <td>1</td>\n",
       "    </tr>\n",
       "  </tbody>\n",
       "</table>\n",
       "</div>"
      ],
      "text/plain": [
       "   Total applications  Number of calls\n",
       "0                  51                1"
      ]
     },
     "execution_count": 18,
     "metadata": {},
     "output_type": "execute_result"
    }
   ],
   "source": [
    "call = non_duplicated['date_call'].notnull().sum()\n",
    "d_call = non_duplicated['result'].value_counts()[1] - call\n",
    "\n",
    "p_call = call*100/d_call\n",
    "p_dcall = 100 - p_call\n",
    "\n",
    "# Creating dataset \n",
    "labels = \"Did call\", \"Didn't call\"\n",
    "  \n",
    "data = [p_call, p_dcall]\n",
    "  \n",
    "# Creating plot \n",
    "fig = plt.figure(figsize =(12, 8)) \n",
    "plt.pie(data, labels = labels, autopct='%1.1f%%', startangle=90) \n",
    "  \n",
    "# show plot \n",
    "plt.show() \n",
    "\n",
    "pd.DataFrame({'Total applications':[non_duplicated['result'].value_counts()[1]], 'Number of calls':[call]}).head()\n"
   ]
  },
  {
   "cell_type": "markdown",
   "metadata": {
    "papermill": {
     "duration": 0.040518,
     "end_time": "2020-09-14T15:25:14.203806",
     "exception": false,
     "start_time": "2020-09-14T15:25:14.163288",
     "status": "completed"
    },
    "tags": []
   },
   "source": [
    "This is all for now. I will be constantly updating this because there is still a lot of interesting information in this data. I will be updating the records too since I'm still looking for a job. "
   ]
  }
 ],
 "metadata": {
  "kernelspec": {
   "display_name": "Python 3",
   "language": "python",
   "name": "python3"
  },
  "language_info": {
   "codemirror_mode": {
    "name": "ipython",
    "version": 3
   },
   "file_extension": ".py",
   "mimetype": "text/x-python",
   "name": "python",
   "nbconvert_exporter": "python",
   "pygments_lexer": "ipython3",
   "version": "3.8.3"
  },
  "papermill": {
   "duration": 9.162262,
   "end_time": "2020-09-14T15:25:14.356568",
   "environment_variables": {},
   "exception": null,
   "input_path": "__notebook__.ipynb",
   "output_path": "__notebook__.ipynb",
   "parameters": {},
   "start_time": "2020-09-14T15:25:05.194306",
   "version": "2.1.0"
  }
 },
 "nbformat": 4,
 "nbformat_minor": 4
}
