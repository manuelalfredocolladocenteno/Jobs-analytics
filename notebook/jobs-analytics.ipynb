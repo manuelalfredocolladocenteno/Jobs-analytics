{
 "cells": [
  {
   "cell_type": "markdown",
   "metadata": {
    "papermill": {
     "duration": 0.016103,
     "end_time": "2020-10-08T15:52:34.057099",
     "exception": false,
     "start_time": "2020-10-08T15:52:34.040996",
     "status": "completed"
    },
    "tags": []
   },
   "source": [
    "# Jobs analytics"
   ]
  },
  {
   "cell_type": "markdown",
   "metadata": {
    "papermill": {
     "duration": 0.01464,
     "end_time": "2020-10-08T15:52:34.086879",
     "exception": false,
     "start_time": "2020-10-08T15:52:34.072239",
     "status": "completed"
    },
    "tags": []
   },
   "source": [
    "EasyApply Bot is a bot that helps you to apply to EasyApply offers on LinkedIn. Here is the project in case you are interested: https://github.com/nicolomantini/LinkedIn-Easy-Apply-Bot\n",
    "\n",
    "Once you run this program every attempt to apply to a job gets recorded in a CSV file. I've been using the bot for a time and now I want to make some analytics in order to learn something new.\n",
    "\n",
    "I set up the bot to look for jobs of data scientist, data engineer, data analyst, business intelligence and python."
   ]
  },
  {
   "cell_type": "code",
   "execution_count": 1,
   "metadata": {
    "_cell_guid": "b1076dfc-b9ad-4769-8c92-a6c4dae69d19",
    "_uuid": "8f2839f25d086af736a60e9eeb907d3b93b6e0e5",
    "execution": {
     "iopub.execute_input": "2020-10-08T15:52:34.123679Z",
     "iopub.status.busy": "2020-10-08T15:52:34.122966Z",
     "iopub.status.idle": "2020-10-08T15:52:34.129494Z",
     "shell.execute_reply": "2020-10-08T15:52:34.128844Z"
    },
    "papermill": {
     "duration": 0.027719,
     "end_time": "2020-10-08T15:52:34.129628",
     "exception": false,
     "start_time": "2020-10-08T15:52:34.101909",
     "status": "completed"
    },
    "tags": []
   },
   "outputs": [
    {
     "name": "stdout",
     "output_type": "stream",
     "text": [
      "/kaggle/input/jobs-applied-in-linkedin-with-easyapplybot/jobs.csv\n"
     ]
    }
   ],
   "source": [
    "# This Python 3 environment comes with many helpful analytics libraries installed\n",
    "# It is defined by the kaggle/python Docker image: https://github.com/kaggle/docker-python\n",
    "# For example, here's several helpful packages to load\n",
    "\n",
    "import numpy as np # linear algebra\n",
    "import pandas as pd # data processing, CSV file I/O (e.g. pd.read_csv)\n",
    "\n",
    "# Input data files are available in the read-only \"../input/\" directory\n",
    "# For example, running this (by clicking run or pressing Shift+Enter) will list all files under the input directory\n",
    "\n",
    "import os\n",
    "for dirname, _, filenames in os.walk('/kaggle/input'):\n",
    "    for filename in filenames:\n",
    "        print(os.path.join(dirname, filename))\n",
    "\n",
    "# You can write up to 5GB to the current directory (/kaggle/working/) that gets preserved as output when you create a version using \"Save & Run All\" \n",
    "# You can also write temporary files to /kaggle/temp/, but they won't be saved outside of the current session"
   ]
  },
  {
   "cell_type": "code",
   "execution_count": 2,
   "metadata": {
    "execution": {
     "iopub.execute_input": "2020-10-08T15:52:34.166922Z",
     "iopub.status.busy": "2020-10-08T15:52:34.166061Z",
     "iopub.status.idle": "2020-10-08T15:52:35.207207Z",
     "shell.execute_reply": "2020-10-08T15:52:35.206523Z"
    },
    "papermill": {
     "duration": 1.061827,
     "end_time": "2020-10-08T15:52:35.207355",
     "exception": false,
     "start_time": "2020-10-08T15:52:34.145528",
     "status": "completed"
    },
    "tags": []
   },
   "outputs": [],
   "source": [
    "pd.plotting.register_matplotlib_converters()\n",
    "import matplotlib.pyplot as plt\n",
    "%matplotlib inline\n",
    "import seaborn as sns"
   ]
  },
  {
   "cell_type": "code",
   "execution_count": 3,
   "metadata": {
    "_cell_guid": "79c7e3d0-c299-4dcb-8224-4455121ee9b0",
    "_uuid": "d629ff2d2480ee46fbb7e2d37f6b5fab8052498a",
    "execution": {
     "iopub.execute_input": "2020-10-08T15:52:35.245944Z",
     "iopub.status.busy": "2020-10-08T15:52:35.245215Z",
     "iopub.status.idle": "2020-10-08T15:52:35.279991Z",
     "shell.execute_reply": "2020-10-08T15:52:35.279500Z"
    },
    "papermill": {
     "duration": 0.055306,
     "end_time": "2020-10-08T15:52:35.280117",
     "exception": false,
     "start_time": "2020-10-08T15:52:35.224811",
     "status": "completed"
    },
    "tags": []
   },
   "outputs": [
    {
     "data": {
      "text/html": [
       "<div>\n",
       "<style scoped>\n",
       "    .dataframe tbody tr th:only-of-type {\n",
       "        vertical-align: middle;\n",
       "    }\n",
       "\n",
       "    .dataframe tbody tr th {\n",
       "        vertical-align: top;\n",
       "    }\n",
       "\n",
       "    .dataframe thead th {\n",
       "        text-align: right;\n",
       "    }\n",
       "</style>\n",
       "<table border=\"1\" class=\"dataframe\">\n",
       "  <thead>\n",
       "    <tr style=\"text-align: right;\">\n",
       "      <th></th>\n",
       "      <th>timestamp</th>\n",
       "      <th>jobID</th>\n",
       "      <th>job</th>\n",
       "      <th>company</th>\n",
       "      <th>attempted</th>\n",
       "      <th>result</th>\n",
       "    </tr>\n",
       "  </thead>\n",
       "  <tbody>\n",
       "    <tr>\n",
       "      <th>0</th>\n",
       "      <td>2020-09-09 18:01:14.040289</td>\n",
       "      <td>1998149634</td>\n",
       "      <td>Data Analytics / Data Scientist</td>\n",
       "      <td>Evolutio Empowering the cloud</td>\n",
       "      <td>True</td>\n",
       "      <td>True</td>\n",
       "    </tr>\n",
       "    <tr>\n",
       "      <th>1</th>\n",
       "      <td>2020-09-09 18:01:39.009284</td>\n",
       "      <td>2011446983</td>\n",
       "      <td>Data Scientist</td>\n",
       "      <td>Experis Selecciï¿½n</td>\n",
       "      <td>True</td>\n",
       "      <td>True</td>\n",
       "    </tr>\n",
       "    <tr>\n",
       "      <th>2</th>\n",
       "      <td>2020-09-09 18:02:03.471147</td>\n",
       "      <td>2011445130</td>\n",
       "      <td>Data Engineer</td>\n",
       "      <td>SoYou_Bankia</td>\n",
       "      <td>True</td>\n",
       "      <td>True</td>\n",
       "    </tr>\n",
       "    <tr>\n",
       "      <th>3</th>\n",
       "      <td>2020-09-09 18:02:18.523716</td>\n",
       "      <td>1990255850</td>\n",
       "      <td>Data Scientist Junior</td>\n",
       "      <td>Strategy Big Data</td>\n",
       "      <td>False</td>\n",
       "      <td>False</td>\n",
       "    </tr>\n",
       "    <tr>\n",
       "      <th>4</th>\n",
       "      <td>2020-09-09 18:02:44.209952</td>\n",
       "      <td>2011254160</td>\n",
       "      <td>Data Scientist</td>\n",
       "      <td>Daimler Group Services Madrid</td>\n",
       "      <td>True</td>\n",
       "      <td>True</td>\n",
       "    </tr>\n",
       "  </tbody>\n",
       "</table>\n",
       "</div>"
      ],
      "text/plain": [
       "                    timestamp       jobID                              job  \\\n",
       "0  2020-09-09 18:01:14.040289  1998149634  Data Analytics / Data Scientist   \n",
       "1  2020-09-09 18:01:39.009284  2011446983                   Data Scientist   \n",
       "2  2020-09-09 18:02:03.471147  2011445130                    Data Engineer   \n",
       "3  2020-09-09 18:02:18.523716  1990255850            Data Scientist Junior   \n",
       "4  2020-09-09 18:02:44.209952  2011254160                   Data Scientist   \n",
       "\n",
       "                         company  attempted  result  \n",
       "0  Evolutio Empowering the cloud       True    True  \n",
       "1            Experis Selecciï¿½n       True    True  \n",
       "2                   SoYou_Bankia       True    True  \n",
       "3              Strategy Big Data      False   False  \n",
       "4  Daimler Group Services Madrid       True    True  "
      ]
     },
     "execution_count": 3,
     "metadata": {},
     "output_type": "execute_result"
    }
   ],
   "source": [
    "my_filepath = \"../input/jobs-applied-in-linkedin-with-easyapplybot/jobs.csv\"\n",
    "\n",
    "my_data = pd.read_csv(my_filepath,encoding='latin1')\n",
    "\n",
    "my_data.head()"
   ]
  },
  {
   "cell_type": "markdown",
   "metadata": {
    "papermill": {
     "duration": 0.015618,
     "end_time": "2020-10-08T15:52:35.311927",
     "exception": false,
     "start_time": "2020-10-08T15:52:35.296309",
     "status": "completed"
    },
    "tags": []
   },
   "source": [
    "Since there are some offers that will be constantly visited I will drop all the offers already seen."
   ]
  },
  {
   "cell_type": "code",
   "execution_count": 4,
   "metadata": {
    "execution": {
     "iopub.execute_input": "2020-10-08T15:52:35.361497Z",
     "iopub.status.busy": "2020-10-08T15:52:35.357332Z",
     "iopub.status.idle": "2020-10-08T15:52:35.365455Z",
     "shell.execute_reply": "2020-10-08T15:52:35.365949Z"
    },
    "papermill": {
     "duration": 0.038054,
     "end_time": "2020-10-08T15:52:35.366091",
     "exception": false,
     "start_time": "2020-10-08T15:52:35.328037",
     "status": "completed"
    },
    "tags": []
   },
   "outputs": [
    {
     "name": "stdout",
     "output_type": "stream",
     "text": [
      "Jobs found:  241\n",
      "Successfully sent applications:  165\n",
      "Failed applications:  76\n"
     ]
    }
   ],
   "source": [
    "non_duplicated = my_data.drop_duplicates(['jobID'])\n",
    "\n",
    "print(\"Jobs found: \", len(non_duplicated['result']))\n",
    "print(\"Successfully sent applications: \", non_duplicated['result'].value_counts()[1])\n",
    "print(\"Failed applications: \", non_duplicated['result'].value_counts()[0])"
   ]
  },
  {
   "cell_type": "markdown",
   "metadata": {
    "papermill": {
     "duration": 0.016165,
     "end_time": "2020-10-08T15:52:35.398753",
     "exception": false,
     "start_time": "2020-10-08T15:52:35.382588",
     "status": "completed"
    },
    "tags": []
   },
   "source": [
    "Now we create two new columns from timestamp column."
   ]
  },
  {
   "cell_type": "code",
   "execution_count": 5,
   "metadata": {
    "execution": {
     "iopub.execute_input": "2020-10-08T15:52:35.437626Z",
     "iopub.status.busy": "2020-10-08T15:52:35.436957Z",
     "iopub.status.idle": "2020-10-08T15:52:35.460895Z",
     "shell.execute_reply": "2020-10-08T15:52:35.461526Z"
    },
    "papermill": {
     "duration": 0.046424,
     "end_time": "2020-10-08T15:52:35.461669",
     "exception": false,
     "start_time": "2020-10-08T15:52:35.415245",
     "status": "completed"
    },
    "tags": []
   },
   "outputs": [
    {
     "name": "stderr",
     "output_type": "stream",
     "text": [
      "/opt/conda/lib/python3.7/site-packages/ipykernel_launcher.py:2: SettingWithCopyWarning: \n",
      "A value is trying to be set on a copy of a slice from a DataFrame.\n",
      "Try using .loc[row_indexer,col_indexer] = value instead\n",
      "\n",
      "See the caveats in the documentation: https://pandas.pydata.org/pandas-docs/stable/user_guide/indexing.html#returning-a-view-versus-a-copy\n",
      "  \n",
      "/opt/conda/lib/python3.7/site-packages/ipykernel_launcher.py:3: SettingWithCopyWarning: \n",
      "A value is trying to be set on a copy of a slice from a DataFrame.\n",
      "Try using .loc[row_indexer,col_indexer] = value instead\n",
      "\n",
      "See the caveats in the documentation: https://pandas.pydata.org/pandas-docs/stable/user_guide/indexing.html#returning-a-view-versus-a-copy\n",
      "  This is separate from the ipykernel package so we can avoid doing imports until\n"
     ]
    }
   ],
   "source": [
    "import datetime\n",
    "non_duplicated['date'] = non_duplicated.apply(lambda x: datetime.datetime.strptime(x['timestamp'], '%Y-%m-%d %H:%M:%S.%f').date(), axis = 1)\n",
    "non_duplicated['time'] = non_duplicated.apply(lambda x: datetime.datetime.strptime(x['timestamp'], '%Y-%m-%d %H:%M:%S.%f').time(), axis = 1)"
   ]
  },
  {
   "cell_type": "markdown",
   "metadata": {
    "papermill": {
     "duration": 0.017017,
     "end_time": "2020-10-08T15:52:35.495518",
     "exception": false,
     "start_time": "2020-10-08T15:52:35.478501",
     "status": "completed"
    },
    "tags": []
   },
   "source": [
    "Now we can drop timestamp column since it is already useless."
   ]
  },
  {
   "cell_type": "code",
   "execution_count": 6,
   "metadata": {
    "execution": {
     "iopub.execute_input": "2020-10-08T15:52:35.537570Z",
     "iopub.status.busy": "2020-10-08T15:52:35.536889Z",
     "iopub.status.idle": "2020-10-08T15:52:35.539501Z",
     "shell.execute_reply": "2020-10-08T15:52:35.539976Z"
    },
    "papermill": {
     "duration": 0.027653,
     "end_time": "2020-10-08T15:52:35.540146",
     "exception": false,
     "start_time": "2020-10-08T15:52:35.512493",
     "status": "completed"
    },
    "tags": []
   },
   "outputs": [],
   "source": [
    "non_duplicated = non_duplicated.drop('timestamp', axis=1)"
   ]
  },
  {
   "cell_type": "markdown",
   "metadata": {
    "papermill": {
     "duration": 0.016814,
     "end_time": "2020-10-08T15:52:35.573974",
     "exception": false,
     "start_time": "2020-10-08T15:52:35.557160",
     "status": "completed"
    },
    "tags": []
   },
   "source": [
    "We can create some other columns related to date. They may be useful in the future."
   ]
  },
  {
   "cell_type": "code",
   "execution_count": 7,
   "metadata": {
    "execution": {
     "iopub.execute_input": "2020-10-08T15:52:35.626564Z",
     "iopub.status.busy": "2020-10-08T15:52:35.625785Z",
     "iopub.status.idle": "2020-10-08T15:52:35.628839Z",
     "shell.execute_reply": "2020-10-08T15:52:35.628212Z"
    },
    "papermill": {
     "duration": 0.037929,
     "end_time": "2020-10-08T15:52:35.628950",
     "exception": false,
     "start_time": "2020-10-08T15:52:35.591021",
     "status": "completed"
    },
    "tags": []
   },
   "outputs": [],
   "source": [
    "non_duplicated['day'] = non_duplicated.apply(lambda x: x['date'].day, axis = 1)\n",
    "non_duplicated['weekday'] = non_duplicated.apply(lambda x: x['date'].weekday(), axis = 1)\n",
    "non_duplicated['month'] = non_duplicated.apply(lambda x: x['date'].month, axis = 1)"
   ]
  },
  {
   "cell_type": "markdown",
   "metadata": {
    "papermill": {
     "duration": 0.01665,
     "end_time": "2020-10-08T15:52:35.663184",
     "exception": false,
     "start_time": "2020-10-08T15:52:35.646534",
     "status": "completed"
    },
    "tags": []
   },
   "source": [
    "I decided to transform 'attempted' and 'result' fields to be able to plot some graphs."
   ]
  },
  {
   "cell_type": "code",
   "execution_count": 8,
   "metadata": {
    "execution": {
     "iopub.execute_input": "2020-10-08T15:52:35.709169Z",
     "iopub.status.busy": "2020-10-08T15:52:35.703930Z",
     "iopub.status.idle": "2020-10-08T15:52:35.759160Z",
     "shell.execute_reply": "2020-10-08T15:52:35.758505Z"
    },
    "papermill": {
     "duration": 0.079124,
     "end_time": "2020-10-08T15:52:35.759270",
     "exception": false,
     "start_time": "2020-10-08T15:52:35.680146",
     "status": "completed"
    },
    "tags": []
   },
   "outputs": [],
   "source": [
    "def convert_result(row):\n",
    "    if row.result == True:\n",
    "        row.result = 1\n",
    "    else:\n",
    "        row.result = 0\n",
    "    return row\n",
    "\n",
    "def convert_att(row):\n",
    "    if row.attempted == True:\n",
    "        row.attempted = 1\n",
    "    else:\n",
    "        row.attempted = 0\n",
    "    return row\n",
    "\n",
    "non_duplicated = non_duplicated.apply(convert_result, axis = 1)\n",
    "non_duplicated = non_duplicated.apply(convert_att, axis = 1)"
   ]
  },
  {
   "cell_type": "code",
   "execution_count": 9,
   "metadata": {
    "execution": {
     "iopub.execute_input": "2020-10-08T15:52:35.814578Z",
     "iopub.status.busy": "2020-10-08T15:52:35.813550Z",
     "iopub.status.idle": "2020-10-08T15:52:35.817736Z",
     "shell.execute_reply": "2020-10-08T15:52:35.817043Z"
    },
    "papermill": {
     "duration": 0.041528,
     "end_time": "2020-10-08T15:52:35.817878",
     "exception": false,
     "start_time": "2020-10-08T15:52:35.776350",
     "status": "completed"
    },
    "tags": []
   },
   "outputs": [
    {
     "data": {
      "text/html": [
       "<div>\n",
       "<style scoped>\n",
       "    .dataframe tbody tr th:only-of-type {\n",
       "        vertical-align: middle;\n",
       "    }\n",
       "\n",
       "    .dataframe tbody tr th {\n",
       "        vertical-align: top;\n",
       "    }\n",
       "\n",
       "    .dataframe thead th {\n",
       "        text-align: right;\n",
       "    }\n",
       "</style>\n",
       "<table border=\"1\" class=\"dataframe\">\n",
       "  <thead>\n",
       "    <tr style=\"text-align: right;\">\n",
       "      <th></th>\n",
       "      <th>jobID</th>\n",
       "      <th>job</th>\n",
       "      <th>company</th>\n",
       "      <th>attempted</th>\n",
       "      <th>result</th>\n",
       "      <th>date</th>\n",
       "      <th>time</th>\n",
       "      <th>day</th>\n",
       "      <th>weekday</th>\n",
       "      <th>month</th>\n",
       "    </tr>\n",
       "  </thead>\n",
       "  <tbody>\n",
       "    <tr>\n",
       "      <th>0</th>\n",
       "      <td>1998149634</td>\n",
       "      <td>Data Analytics / Data Scientist</td>\n",
       "      <td>Evolutio Empowering the cloud</td>\n",
       "      <td>1</td>\n",
       "      <td>1</td>\n",
       "      <td>2020-09-09</td>\n",
       "      <td>18:01:14.040289</td>\n",
       "      <td>9</td>\n",
       "      <td>2</td>\n",
       "      <td>9</td>\n",
       "    </tr>\n",
       "    <tr>\n",
       "      <th>1</th>\n",
       "      <td>2011446983</td>\n",
       "      <td>Data Scientist</td>\n",
       "      <td>Experis Selecciï¿½n</td>\n",
       "      <td>1</td>\n",
       "      <td>1</td>\n",
       "      <td>2020-09-09</td>\n",
       "      <td>18:01:39.009284</td>\n",
       "      <td>9</td>\n",
       "      <td>2</td>\n",
       "      <td>9</td>\n",
       "    </tr>\n",
       "    <tr>\n",
       "      <th>2</th>\n",
       "      <td>2011445130</td>\n",
       "      <td>Data Engineer</td>\n",
       "      <td>SoYou_Bankia</td>\n",
       "      <td>1</td>\n",
       "      <td>1</td>\n",
       "      <td>2020-09-09</td>\n",
       "      <td>18:02:03.471147</td>\n",
       "      <td>9</td>\n",
       "      <td>2</td>\n",
       "      <td>9</td>\n",
       "    </tr>\n",
       "    <tr>\n",
       "      <th>3</th>\n",
       "      <td>1990255850</td>\n",
       "      <td>Data Scientist Junior</td>\n",
       "      <td>Strategy Big Data</td>\n",
       "      <td>0</td>\n",
       "      <td>0</td>\n",
       "      <td>2020-09-09</td>\n",
       "      <td>18:02:18.523716</td>\n",
       "      <td>9</td>\n",
       "      <td>2</td>\n",
       "      <td>9</td>\n",
       "    </tr>\n",
       "    <tr>\n",
       "      <th>4</th>\n",
       "      <td>2011254160</td>\n",
       "      <td>Data Scientist</td>\n",
       "      <td>Daimler Group Services Madrid</td>\n",
       "      <td>1</td>\n",
       "      <td>1</td>\n",
       "      <td>2020-09-09</td>\n",
       "      <td>18:02:44.209952</td>\n",
       "      <td>9</td>\n",
       "      <td>2</td>\n",
       "      <td>9</td>\n",
       "    </tr>\n",
       "  </tbody>\n",
       "</table>\n",
       "</div>"
      ],
      "text/plain": [
       "        jobID                              job                        company  \\\n",
       "0  1998149634  Data Analytics / Data Scientist  Evolutio Empowering the cloud   \n",
       "1  2011446983                   Data Scientist            Experis Selecciï¿½n   \n",
       "2  2011445130                    Data Engineer                   SoYou_Bankia   \n",
       "3  1990255850            Data Scientist Junior              Strategy Big Data   \n",
       "4  2011254160                   Data Scientist  Daimler Group Services Madrid   \n",
       "\n",
       "   attempted  result        date             time  day  weekday  month  \n",
       "0          1       1  2020-09-09  18:01:14.040289    9        2      9  \n",
       "1          1       1  2020-09-09  18:01:39.009284    9        2      9  \n",
       "2          1       1  2020-09-09  18:02:03.471147    9        2      9  \n",
       "3          0       0  2020-09-09  18:02:18.523716    9        2      9  \n",
       "4          1       1  2020-09-09  18:02:44.209952    9        2      9  "
      ]
     },
     "execution_count": 9,
     "metadata": {},
     "output_type": "execute_result"
    }
   ],
   "source": [
    "non_duplicated.head()"
   ]
  },
  {
   "cell_type": "markdown",
   "metadata": {
    "papermill": {
     "duration": 0.018023,
     "end_time": "2020-10-08T15:52:35.854663",
     "exception": false,
     "start_time": "2020-10-08T15:52:35.836640",
     "status": "completed"
    },
    "tags": []
   },
   "source": [
    "Now I group the data per day, counting every attempt and every successful submitting."
   ]
  },
  {
   "cell_type": "code",
   "execution_count": 10,
   "metadata": {
    "execution": {
     "iopub.execute_input": "2020-10-08T15:52:35.904725Z",
     "iopub.status.busy": "2020-10-08T15:52:35.896111Z",
     "iopub.status.idle": "2020-10-08T15:52:35.908835Z",
     "shell.execute_reply": "2020-10-08T15:52:35.908192Z"
    },
    "papermill": {
     "duration": 0.036216,
     "end_time": "2020-10-08T15:52:35.908963",
     "exception": false,
     "start_time": "2020-10-08T15:52:35.872747",
     "status": "completed"
    },
    "tags": []
   },
   "outputs": [
    {
     "data": {
      "text/html": [
       "<div>\n",
       "<style scoped>\n",
       "    .dataframe tbody tr th:only-of-type {\n",
       "        vertical-align: middle;\n",
       "    }\n",
       "\n",
       "    .dataframe tbody tr th {\n",
       "        vertical-align: top;\n",
       "    }\n",
       "\n",
       "    .dataframe thead th {\n",
       "        text-align: right;\n",
       "    }\n",
       "</style>\n",
       "<table border=\"1\" class=\"dataframe\">\n",
       "  <thead>\n",
       "    <tr style=\"text-align: right;\">\n",
       "      <th></th>\n",
       "      <th>attempted</th>\n",
       "      <th>result</th>\n",
       "    </tr>\n",
       "    <tr>\n",
       "      <th>day</th>\n",
       "      <th></th>\n",
       "      <th></th>\n",
       "    </tr>\n",
       "  </thead>\n",
       "  <tbody>\n",
       "    <tr>\n",
       "      <th>1</th>\n",
       "      <td>12</td>\n",
       "      <td>10</td>\n",
       "    </tr>\n",
       "    <tr>\n",
       "      <th>2</th>\n",
       "      <td>2</td>\n",
       "      <td>1</td>\n",
       "    </tr>\n",
       "    <tr>\n",
       "      <th>3</th>\n",
       "      <td>4</td>\n",
       "      <td>4</td>\n",
       "    </tr>\n",
       "    <tr>\n",
       "      <th>4</th>\n",
       "      <td>1</td>\n",
       "      <td>0</td>\n",
       "    </tr>\n",
       "    <tr>\n",
       "      <th>5</th>\n",
       "      <td>5</td>\n",
       "      <td>5</td>\n",
       "    </tr>\n",
       "  </tbody>\n",
       "</table>\n",
       "</div>"
      ],
      "text/plain": [
       "     attempted  result\n",
       "day                   \n",
       "1           12      10\n",
       "2            2       1\n",
       "3            4       4\n",
       "4            1       0\n",
       "5            5       5"
      ]
     },
     "execution_count": 10,
     "metadata": {},
     "output_type": "execute_result"
    }
   ],
   "source": [
    "group = non_duplicated[['day','attempted', 'result']].groupby(['day']).sum()\n",
    "\n",
    "group.head()"
   ]
  },
  {
   "cell_type": "code",
   "execution_count": 11,
   "metadata": {
    "execution": {
     "iopub.execute_input": "2020-10-08T15:52:35.951713Z",
     "iopub.status.busy": "2020-10-08T15:52:35.950982Z",
     "iopub.status.idle": "2020-10-08T15:52:36.331197Z",
     "shell.execute_reply": "2020-10-08T15:52:36.330694Z"
    },
    "papermill": {
     "duration": 0.403583,
     "end_time": "2020-10-08T15:52:36.331324",
     "exception": false,
     "start_time": "2020-10-08T15:52:35.927741",
     "status": "completed"
    },
    "tags": []
   },
   "outputs": [
    {
     "data": {
      "text/plain": [
       "<matplotlib.axes._subplots.AxesSubplot at 0x7f47c08d5b50>"
      ]
     },
     "execution_count": 11,
     "metadata": {},
     "output_type": "execute_result"
    },
    {
     "data": {
      "image/png": "[encoded data removed]",
      "text/plain": [
       "<Figure size 1224x432 with 1 Axes>"
      ]
     },
     "metadata": {
      "needs_background": "light"
     },
     "output_type": "display_data"
    }
   ],
   "source": [
    "plt.figure(figsize=(17,6))\n",
    "plt.title(\"Attempts per day\")\n",
    "\n",
    "sns.barplot(x=group.index, y=group['attempted'])"
   ]
  },
  {
   "cell_type": "code",
   "execution_count": 12,
   "metadata": {
    "execution": {
     "iopub.execute_input": "2020-10-08T15:52:36.383391Z",
     "iopub.status.busy": "2020-10-08T15:52:36.382700Z",
     "iopub.status.idle": "2020-10-08T15:52:36.692553Z",
     "shell.execute_reply": "2020-10-08T15:52:36.691919Z"
    },
    "papermill": {
     "duration": 0.34129,
     "end_time": "2020-10-08T15:52:36.692662",
     "exception": false,
     "start_time": "2020-10-08T15:52:36.351372",
     "status": "completed"
    },
    "tags": []
   },
   "outputs": [
    {
     "data": {
      "text/plain": [
       "<matplotlib.axes._subplots.AxesSubplot at 0x7f47c05fead0>"
      ]
     },
     "execution_count": 12,
     "metadata": {},
     "output_type": "execute_result"
    },
    {
     "data": {
      "image/png": "[encoded data removed]",
      "text/plain": [
       "<Figure size 1224x432 with 1 Axes>"
      ]
     },
     "metadata": {
      "needs_background": "light"
     },
     "output_type": "display_data"
    }
   ],
   "source": [
    "plt.figure(figsize=(17,6))\n",
    "plt.title(\"Submitted applications per day\")\n",
    "\n",
    "sns.barplot(x=group.index, y=group['result'])"
   ]
  },
  {
   "cell_type": "code",
   "execution_count": 13,
   "metadata": {
    "execution": {
     "iopub.execute_input": "2020-10-08T15:52:36.748157Z",
     "iopub.status.busy": "2020-10-08T15:52:36.747183Z",
     "iopub.status.idle": "2020-10-08T15:52:36.751481Z",
     "shell.execute_reply": "2020-10-08T15:52:36.751982Z"
    },
    "papermill": {
     "duration": 0.038299,
     "end_time": "2020-10-08T15:52:36.752134",
     "exception": false,
     "start_time": "2020-10-08T15:52:36.713835",
     "status": "completed"
    },
    "tags": []
   },
   "outputs": [
    {
     "data": {
      "text/html": [
       "<div>\n",
       "<style scoped>\n",
       "    .dataframe tbody tr th:only-of-type {\n",
       "        vertical-align: middle;\n",
       "    }\n",
       "\n",
       "    .dataframe tbody tr th {\n",
       "        vertical-align: top;\n",
       "    }\n",
       "\n",
       "    .dataframe thead th {\n",
       "        text-align: right;\n",
       "    }\n",
       "</style>\n",
       "<table border=\"1\" class=\"dataframe\">\n",
       "  <thead>\n",
       "    <tr style=\"text-align: right;\">\n",
       "      <th></th>\n",
       "      <th>attempted</th>\n",
       "      <th>result</th>\n",
       "    </tr>\n",
       "    <tr>\n",
       "      <th>weekday</th>\n",
       "      <th></th>\n",
       "      <th></th>\n",
       "    </tr>\n",
       "  </thead>\n",
       "  <tbody>\n",
       "    <tr>\n",
       "      <th>0</th>\n",
       "      <td>23</td>\n",
       "      <td>18</td>\n",
       "    </tr>\n",
       "    <tr>\n",
       "      <th>1</th>\n",
       "      <td>22</td>\n",
       "      <td>17</td>\n",
       "    </tr>\n",
       "    <tr>\n",
       "      <th>2</th>\n",
       "      <td>43</td>\n",
       "      <td>34</td>\n",
       "    </tr>\n",
       "    <tr>\n",
       "      <th>3</th>\n",
       "      <td>64</td>\n",
       "      <td>47</td>\n",
       "    </tr>\n",
       "    <tr>\n",
       "      <th>4</th>\n",
       "      <td>26</td>\n",
       "      <td>22</td>\n",
       "    </tr>\n",
       "  </tbody>\n",
       "</table>\n",
       "</div>"
      ],
      "text/plain": [
       "         attempted  result\n",
       "weekday                   \n",
       "0               23      18\n",
       "1               22      17\n",
       "2               43      34\n",
       "3               64      47\n",
       "4               26      22"
      ]
     },
     "execution_count": 13,
     "metadata": {},
     "output_type": "execute_result"
    }
   ],
   "source": [
    "group2 = non_duplicated[['weekday','attempted', 'result']].groupby(['weekday']).sum()\n",
    "\n",
    "group2.head()"
   ]
  },
  {
   "cell_type": "code",
   "execution_count": 14,
   "metadata": {
    "execution": {
     "iopub.execute_input": "2020-10-08T15:52:36.887957Z",
     "iopub.status.busy": "2020-10-08T15:52:36.887155Z",
     "iopub.status.idle": "2020-10-08T15:52:37.050116Z",
     "shell.execute_reply": "2020-10-08T15:52:37.049481Z"
    },
    "papermill": {
     "duration": 0.276268,
     "end_time": "2020-10-08T15:52:37.050234",
     "exception": false,
     "start_time": "2020-10-08T15:52:36.773966",
     "status": "completed"
    },
    "tags": []
   },
   "outputs": [
    {
     "data": {
      "text/plain": [
       "<matplotlib.axes._subplots.AxesSubplot at 0x7f47c0263290>"
      ]
     },
     "execution_count": 14,
     "metadata": {},
     "output_type": "execute_result"
    },
    {
     "data": {
      "image/png": "[encoded data removed]",
      "text/plain": [
       "<Figure size 1224x432 with 1 Axes>"
      ]
     },
     "metadata": {
      "needs_background": "light"
     },
     "output_type": "display_data"
    }
   ],
   "source": [
    "plt.figure(figsize=(17,6))\n",
    "plt.title(\"Attempts per weekday\")\n",
    "\n",
    "sns.barplot(x=group2.index, y=group2['attempted'])"
   ]
  },
  {
   "cell_type": "code",
   "execution_count": 15,
   "metadata": {
    "execution": {
     "iopub.execute_input": "2020-10-08T15:52:37.101442Z",
     "iopub.status.busy": "2020-10-08T15:52:37.100647Z",
     "iopub.status.idle": "2020-10-08T15:52:37.264444Z",
     "shell.execute_reply": "2020-10-08T15:52:37.264995Z"
    },
    "papermill": {
     "duration": 0.191813,
     "end_time": "2020-10-08T15:52:37.265145",
     "exception": false,
     "start_time": "2020-10-08T15:52:37.073332",
     "status": "completed"
    },
    "tags": []
   },
   "outputs": [
    {
     "data": {
      "text/plain": [
       "<matplotlib.axes._subplots.AxesSubplot at 0x7f47c0263650>"
      ]
     },
     "execution_count": 15,
     "metadata": {},
     "output_type": "execute_result"
    },
    {
     "data": {
      "image/png": "[encoded data removed]",
      "text/plain": [
       "<Figure size 1224x432 with 1 Axes>"
      ]
     },
     "metadata": {
      "needs_background": "light"
     },
     "output_type": "display_data"
    }
   ],
   "source": [
    "plt.figure(figsize=(17,6))\n",
    "plt.title(\"Submitted applications per weekday\")\n",
    "\n",
    "sns.barplot(x=group2.index, y=group2['result'])"
   ]
  },
  {
   "cell_type": "code",
   "execution_count": 16,
   "metadata": {
    "execution": {
     "iopub.execute_input": "2020-10-08T15:52:37.319081Z",
     "iopub.status.busy": "2020-10-08T15:52:37.318441Z",
     "iopub.status.idle": "2020-10-08T15:52:37.509912Z",
     "shell.execute_reply": "2020-10-08T15:52:37.509351Z"
    },
    "papermill": {
     "duration": 0.220654,
     "end_time": "2020-10-08T15:52:37.510029",
     "exception": false,
     "start_time": "2020-10-08T15:52:37.289375",
     "status": "completed"
    },
    "tags": []
   },
   "outputs": [
    {
     "data": {
      "text/plain": [
       "<matplotlib.axes._subplots.AxesSubplot at 0x7f47c083e390>"
      ]
     },
     "execution_count": 16,
     "metadata": {},
     "output_type": "execute_result"
    },
    {
     "data": {
      "image/png": "[encoded data removed]",
      "text/plain": [
       "<Figure size 1224x432 with 1 Axes>"
      ]
     },
     "metadata": {
      "needs_background": "light"
     },
     "output_type": "display_data"
    }
   ],
   "source": [
    "failed = group2['attempted'] - group2['result']\n",
    "\n",
    "plt.figure(figsize=(17,6))\n",
    "\n",
    "plt.title(\"Failed attemps per weekday\")\n",
    "\n",
    "sns.barplot(x=failed.index, y=failed)"
   ]
  },
  {
   "cell_type": "markdown",
   "metadata": {
    "papermill": {
     "duration": 0.02528,
     "end_time": "2020-10-08T15:52:37.560461",
     "exception": false,
     "start_time": "2020-10-08T15:52:37.535181",
     "status": "completed"
    },
    "tags": []
   },
   "source": [
    "It's too soon to make some conclusions since there is still too little data in the dataset. For now, it seems that there are more available jobs in the middle of the week (Wednesday, Thursday, and Friday), but we can't be sure if it is something general or just a coincidence. We'll be watching."
   ]
  },
  {
   "cell_type": "markdown",
   "metadata": {
    "papermill": {
     "duration": 0.025143,
     "end_time": "2020-10-08T15:52:37.611123",
     "exception": false,
     "start_time": "2020-10-08T15:52:37.585980",
     "status": "completed"
    },
    "tags": []
   },
   "source": [
    "I create another column with the dates when they called me (if so, 'nan' otherwise).\n",
    "\n",
    "I can take the jobID from the url, so I look for the id of the row in order to change the date_call from 'nan' to the corresponding date of the call."
   ]
  },
  {
   "cell_type": "code",
   "execution_count": 17,
   "metadata": {
    "execution": {
     "iopub.execute_input": "2020-10-08T15:52:37.683953Z",
     "iopub.status.busy": "2020-10-08T15:52:37.682787Z",
     "iopub.status.idle": "2020-10-08T15:52:37.687659Z",
     "shell.execute_reply": "2020-10-08T15:52:37.688136Z"
    },
    "papermill": {
     "duration": 0.051791,
     "end_time": "2020-10-08T15:52:37.688334",
     "exception": false,
     "start_time": "2020-10-08T15:52:37.636543",
     "status": "completed"
    },
    "tags": []
   },
   "outputs": [
    {
     "name": "stdout",
     "output_type": "stream",
     "text": [
      "92   NaN\n",
      "Name: date_call, dtype: float64\n",
      "950    NaN\n",
      "Name: date_call, dtype: object\n"
     ]
    }
   ],
   "source": [
    "#2019339369\n",
    "non_duplicated['date_call'] = np.nan\n",
    "\n",
    "print(non_duplicated.query('jobID == 2019339369')['date_call']) # id is equal to 92\n",
    "non_duplicated.loc[92,'date_call'] = datetime.date(2020, 9, 14)\n",
    "print(non_duplicated.query('jobID == 2164722520')['date_call']) # id is equal to 950\n",
    "non_duplicated.loc[950,'date_call'] = datetime.date(2020, 10, 8)"
   ]
  },
  {
   "cell_type": "markdown",
   "metadata": {
    "papermill": {
     "duration": 0.025658,
     "end_time": "2020-10-08T15:52:37.741199",
     "exception": false,
     "start_time": "2020-10-08T15:52:37.715541",
     "status": "completed"
    },
    "tags": []
   },
   "source": [
    "Now we can see how many job applications have a response."
   ]
  },
  {
   "cell_type": "code",
   "execution_count": 18,
   "metadata": {
    "execution": {
     "iopub.execute_input": "2020-10-08T15:52:37.817870Z",
     "iopub.status.busy": "2020-10-08T15:52:37.814077Z",
     "iopub.status.idle": "2020-10-08T15:52:37.874773Z",
     "shell.execute_reply": "2020-10-08T15:52:37.874063Z"
    },
    "papermill": {
     "duration": 0.107124,
     "end_time": "2020-10-08T15:52:37.874898",
     "exception": false,
     "start_time": "2020-10-08T15:52:37.767774",
     "status": "completed"
    },
    "tags": []
   },
   "outputs": [
    {
     "data": {
      "image/png": "[encoded data removed]",
      "text/plain": [
       "<Figure size 864x576 with 1 Axes>"
      ]
     },
     "metadata": {},
     "output_type": "display_data"
    },
    {
     "data": {
      "text/html": [
       "<div>\n",
       "<style scoped>\n",
       "    .dataframe tbody tr th:only-of-type {\n",
       "        vertical-align: middle;\n",
       "    }\n",
       "\n",
       "    .dataframe tbody tr th {\n",
       "        vertical-align: top;\n",
       "    }\n",
       "\n",
       "    .dataframe thead th {\n",
       "        text-align: right;\n",
       "    }\n",
       "</style>\n",
       "<table border=\"1\" class=\"dataframe\">\n",
       "  <thead>\n",
       "    <tr style=\"text-align: right;\">\n",
       "      <th></th>\n",
       "      <th>Total applications</th>\n",
       "      <th>Number of calls</th>\n",
       "    </tr>\n",
       "  </thead>\n",
       "  <tbody>\n",
       "    <tr>\n",
       "      <th>0</th>\n",
       "      <td>165</td>\n",
       "      <td>2</td>\n",
       "    </tr>\n",
       "  </tbody>\n",
       "</table>\n",
       "</div>"
      ],
      "text/plain": [
       "   Total applications  Number of calls\n",
       "0                 165                2"
      ]
     },
     "execution_count": 18,
     "metadata": {},
     "output_type": "execute_result"
    }
   ],
   "source": [
    "call = non_duplicated['date_call'].notnull().sum()\n",
    "d_call = non_duplicated['result'].value_counts()[1] - call\n",
    "\n",
    "p_call = call*100/d_call\n",
    "p_dcall = 100 - p_call\n",
    "\n",
    "# Creating dataset \n",
    "labels = \"Did call\", \"Didn't call\"\n",
    "  \n",
    "data = [p_call, p_dcall]\n",
    "  \n",
    "# Creating plot \n",
    "fig = plt.figure(figsize =(12, 8)) \n",
    "plt.pie(data, labels = labels, autopct='%1.1f%%', startangle=90) \n",
    "  \n",
    "# show plot \n",
    "plt.show() \n",
    "\n",
    "pd.DataFrame({'Total applications':[non_duplicated['result'].value_counts()[1]], 'Number of calls':[call]}).head()\n"
   ]
  },
  {
   "cell_type": "code",
   "execution_count": 19,
   "metadata": {
    "execution": {
     "iopub.execute_input": "2020-10-08T15:52:37.936080Z",
     "iopub.status.busy": "2020-10-08T15:52:37.935021Z",
     "iopub.status.idle": "2020-10-08T15:52:38.266502Z",
     "shell.execute_reply": "2020-10-08T15:52:38.265875Z"
    },
    "papermill": {
     "duration": 0.363879,
     "end_time": "2020-10-08T15:52:38.266637",
     "exception": false,
     "start_time": "2020-10-08T15:52:37.902758",
     "status": "completed"
    },
    "tags": []
   },
   "outputs": [],
   "source": [
    "non_duplicated.to_csv('output.csv')"
   ]
  },
  {
   "cell_type": "markdown",
   "metadata": {
    "papermill": {
     "duration": 0.026612,
     "end_time": "2020-10-08T15:52:38.321421",
     "exception": false,
     "start_time": "2020-10-08T15:52:38.294809",
     "status": "completed"
    },
    "tags": []
   },
   "source": [
    "This is all for now. I will be constantly updating this because there is still a lot of interesting information in this data. I will be updating the records too since I'm still looking for a job. "
   ]
  }
 ],
 "metadata": {
  "kernelspec": {
   "display_name": "Python 3",
   "language": "python",
   "name": "python3"
  },
  "language_info": {
   "codemirror_mode": {
    "name": "ipython",
    "version": 3
   },
   "file_extension": ".py",
   "mimetype": "text/x-python",
   "name": "python",
   "nbconvert_exporter": "python",
   "pygments_lexer": "ipython3",
   "version": "3.7.6"
  },
  "papermill": {
   "duration": 8.883158,
   "end_time": "2020-10-08T15:52:38.457316",
   "environment_variables": {},
   "exception": null,
   "input_path": "__notebook__.ipynb",
   "output_path": "__notebook__.ipynb",
   "parameters": {},
   "start_time": "2020-10-08T15:52:29.574158",
   "version": "2.1.0"
  }
 },
 "nbformat": 4,
 "nbformat_minor": 4
}
